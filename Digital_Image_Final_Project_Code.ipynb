{
  "nbformat": 4,
  "nbformat_minor": 0,
  "metadata": {
    "colab": {
      "provenance": [],
      "include_colab_link": true
    },
    "kernelspec": {
      "name": "python3",
      "display_name": "Python 3"
    },
    "language_info": {
      "name": "python"
    },
    "accelerator": "GPU",
    "gpuClass": "standard"
  },
  "cells": [
    {
      "cell_type": "markdown",
      "metadata": {
        "id": "view-in-github",
        "colab_type": "text"
      },
      "source": [
        "<a href=\"https://colab.research.google.com/github/Piyati/Piyatida/blob/main/Digital_Image_Final_Project_Code.ipynb\" target=\"_parent\"><img src=\"https://colab.research.google.com/assets/colab-badge.svg\" alt=\"Open In Colab\"/></a>"
      ]
    },
    {
      "cell_type": "markdown",
      "source": [
        "# **Digital Image Final Project** \n",
        "\n",
        "## **(Histopathologic Image Classification of Benign Fibro-Osseous Lesions of the Jaws Group)**\n",
        "\n",
        "P => Piecewise Linear Contrast Stretching\n",
        "\n",
        "GHE => Global Histogram Equalization\n",
        "\n",
        "CLAHE => Contrast Limited Adaptive Histogram Equalization"
      ],
      "metadata": {
        "id": "lKnSMattdS7f"
      }
    },
    {
      "cell_type": "code",
      "execution_count": null,
      "metadata": {
        "colab": {
          "base_uri": "https://localhost:8080/"
        },
        "id": "vzQVkx-yWkJQ",
        "outputId": "a65896d9-5ff5-4664-84bd-dda342c0ce70"
      },
      "outputs": [
        {
          "output_type": "stream",
          "name": "stdout",
          "text": [
            "Mounted at /content/drive\n"
          ]
        }
      ],
      "source": [
        "from google.colab import drive\n",
        "drive.mount('/content/drive')"
      ]
    },
    {
      "cell_type": "code",
      "source": [
        "import os\n",
        "import glob\n",
        "import keras\n",
        "import sklearn\n",
        "import cv2 as cv2\n",
        "import numpy as np\n",
        "import pandas as pd\n",
        "import PIL as Image\n",
        "import seaborn as sns\n",
        "import pathlib as path\n",
        "import tensorflow as tf\n",
        "import matplotlib as mpl\n",
        "from datetime import datetime\n",
        "import matplotlib.image as img\n",
        "from keras import backend as k\n",
        "from keras.models import Model\n",
        "import matplotlib.pyplot as plt\n",
        "from keras.utils import np_utils \n",
        "from google.colab.patches import cv2_imshow\n",
        "from tensorflow.keras.preprocessing import image\n",
        "from tensorflow.keras.datasets import fashion_mnist\n",
        "from keras.layers.convolutional import  MaxPooling2D\n",
        "from sklearn.model_selection import train_test_split\n",
        "from tensorflow.keras.callbacks import ModelCheckpoint\n",
        "from tensorflow.keras.optimizers import Adam,SGD,RMSprop\n",
        "from tensorflow.keras.applications.resnet50 import ResNet50\n",
        "from tensorflow.keras.models import Sequential, Model, load_model\n",
        "from tensorflow.keras import models, layers, optimizers, callbacks\n",
        "from sklearn.metrics import confusion_matrix, classification_report\n",
        "from  tensorflow.keras.applications.vgg16 import VGG16,preprocess_input\n",
        "from tensorflow.keras.utils import to_categorical, image_dataset_from_directory\n",
        "from tensorflow.keras.preprocessing.image import ImageDataGenerator,load_img,img_to_array\n",
        "from tensorflow.keras.layers import Dense, Conv2D, Flatten, Dropout, MaxPooling2D, BatchNormalization, ReLU,Flatten,Activation, GlobalAveragePooling2D, Input\n",
        "%matplotlib inline"
      ],
      "metadata": {
        "id": "9KWUMgPpWtE-"
      },
      "execution_count": null,
      "outputs": []
    },
    {
      "cell_type": "markdown",
      "source": [
        "#Convert Image\n"
      ],
      "metadata": {
        "id": "ofuk-3yfE58F"
      }
    },
    {
      "cell_type": "markdown",
      "source": [
        "##Convert RGB to Grayscale"
      ],
      "metadata": {
        "id": "no3gDbWfFC3G"
      }
    },
    {
      "cell_type": "markdown",
      "source": [
        "###train set"
      ],
      "metadata": {
        "id": "Bjo6k6-cFwyv"
      }
    },
    {
      "cell_type": "code",
      "source": [
        "data_train_ce = '/content/drive/MyDrive/Digital Image Project/Old_Data_Set/Original_image/train_cell/Cemento'\n",
        "gray_train_ce = '/content/drive/MyDrive/Digital Image Project/Old_Data_Set/Gray Scale/train_gray_scale/Cemento_train_gray'\n",
        "try:\n",
        "    makedirs(gray_train_ce)\n",
        "except:\n",
        "    print (\"Directory already exist, images will be written in asme folder\")\n",
        "\n",
        "# Folder won't used\n",
        "files = os.listdir(data_train_ce)\n",
        "\n",
        "for image in files:\n",
        "    img = cv2.imread(os.path.join(data_train_ce,image))\n",
        "    gray = cv2.cvtColor(img,cv2.COLOR_BGR2GRAY) #Convert RGB image to Gray-scale\n",
        "    cv2.imwrite(os.path.join(gray_train_ce,image),gray)"
      ],
      "metadata": {
        "colab": {
          "base_uri": "https://localhost:8080/"
        },
        "id": "WPEKK3mTFLmV",
        "outputId": "a88bab5b-d6ff-4aba-9d86-8d5a9b98a1ab"
      },
      "execution_count": null,
      "outputs": [
        {
          "output_type": "stream",
          "name": "stdout",
          "text": [
            "Directory already exist, images will be written in asme folder\n"
          ]
        }
      ]
    },
    {
      "cell_type": "code",
      "source": [
        "data_train_fi = '/content/drive/MyDrive/Digital Image Project/Old_Data_Set/Original_image/train_cell/Fibrous'\n",
        "gray_train_fi = '/content/drive/MyDrive/Digital Image Project/Old_Data_Set/Gray Scale/train_gray_scale/Fibrous_train_gray'\n",
        "\n",
        "try:\n",
        "    makedirs(gray_train_fi)\n",
        "except:\n",
        "    print (\"Directory already exist, images will be written in asme folder\")\n",
        "\n",
        "# Folder won't used\n",
        "files = os.listdir(data_train_fi)\n",
        "\n",
        "for image in files:\n",
        "    img = cv2.imread(os.path.join(data_train_fi,image))\n",
        "    gray = cv2.cvtColor(img,cv2.COLOR_BGR2GRAY) #Convert RGB image to Gray-scale\n",
        "    cv2.imwrite(os.path.join(gray_train_fi,image),gray)"
      ],
      "metadata": {
        "id": "0vXHGoMuOdBL"
      },
      "execution_count": null,
      "outputs": []
    },
    {
      "cell_type": "code",
      "source": [
        "data_train_os = '/content/drive/MyDrive/Digital Image Project/Old_Data_Set/Original_image/train_cell/Ossifying'\n",
        "gray_train_os = '/content/drive/MyDrive/Digital Image Project/Old_Data_Set/Gray Scale/train_gray_scale/Ossifying_train_gray'\n",
        "try:\n",
        "    makedirs(gray_train_os)\n",
        "except:\n",
        "    print (\"Directory already exist, images will be written in asme folder\")\n",
        "\n",
        "# Folder won't used\n",
        "files = os.listdir(data_train_os)\n",
        "\n",
        "for image in files:\n",
        "    img = cv2.imread(os.path.join(data_train_os,image))\n",
        "    gray = cv2.cvtColor(img,cv2.COLOR_BGR2GRAY) #Convert RGB image to Gray-scale\n",
        "    cv2.imwrite(os.path.join(gray_train_os,image),gray)"
      ],
      "metadata": {
        "id": "c4ELyv3IF6Uz"
      },
      "execution_count": null,
      "outputs": []
    },
    {
      "cell_type": "markdown",
      "source": [
        "###test set"
      ],
      "metadata": {
        "id": "R_LkMidBF0iP"
      }
    },
    {
      "cell_type": "code",
      "source": [
        "data_test_ce = '/content/drive/MyDrive/Digital Image Project/Old_Data_Set/Original_image/test_cell/Cemento'\n",
        "gray_test_ce = '/content/drive/MyDrive/Digital Image Project/Old_Data_Set/Gray Scale/test_gray_scale/Cemento_test_gray'\n",
        "try:\n",
        "    makedirs(gray_test_ce)\n",
        "except:\n",
        "    print (\"Directory already exist, images will be written in asme folder\")\n",
        "\n",
        "# Folder won't used\n",
        "files = os.listdir(data_test_ce)\n",
        "\n",
        "for image in files:\n",
        "    img = cv2.imread(os.path.join(data_test_ce,image))\n",
        "    gray = cv2.cvtColor(img,cv2.COLOR_BGR2GRAY) #Convert RGB image to Gray-scale\n",
        "    cv2.imwrite(os.path.join(gray_test_ce,image),gray)"
      ],
      "metadata": {
        "id": "o0RNbK6LF2KL"
      },
      "execution_count": null,
      "outputs": []
    },
    {
      "cell_type": "code",
      "source": [
        "data_test_fi = '/content/drive/MyDrive/Digital Image Project/Old_Data_Set/Original_image/test_cell/Fibrous'\n",
        "gray_test_fi = '/content/drive/MyDrive/Digital Image Project/Old_Data_Set/Gray Scale/test_gray_scale/Fibrous_test_gray'\n",
        "try:\n",
        "    makedirs(gray_test_fi)\n",
        "except:\n",
        "    print (\"Directory already exist, images will be written in asme folder\")\n",
        "\n",
        "# Folder won't used\n",
        "files = os.listdir(data_test_fi)\n",
        "\n",
        "for image in files:\n",
        "    img = cv2.imread(os.path.join(data_test_fi,image))\n",
        "    gray = cv2.cvtColor(img,cv2.COLOR_BGR2GRAY) #Convert RGB image to Gray-scale\n",
        "    cv2.imwrite(os.path.join(gray_test_fi,image),gray)"
      ],
      "metadata": {
        "id": "Rs-L9VYUGBWD"
      },
      "execution_count": null,
      "outputs": []
    },
    {
      "cell_type": "code",
      "source": [
        "data_test_os =  '/content/drive/MyDrive/Digital Image Project/Old_Data_Set/Original_image/test_cell/Ossifying'\n",
        "gray_test_os = '/content/drive/MyDrive/Digital Image Project/Old_Data_Set/Gray Scale/test_gray_scale/Ossifying_test_gray'\n",
        "try:\n",
        "    makedirs(gray_test_os)\n",
        "except:\n",
        "    print (\"Directory already exist, images will be written in asme folder\")\n",
        "\n",
        "# Folder won't used\n",
        "files = os.listdir(data_test_os)\n",
        "\n",
        "for image in files:\n",
        "    img = cv2.imread(os.path.join(data_test_os,image))\n",
        "    gray = cv2.cvtColor(img,cv2.COLOR_BGR2GRAY) #Convert RGB image to Gray-scale\n",
        "    cv2.imwrite(os.path.join(gray_test_os,image),gray)"
      ],
      "metadata": {
        "id": "EEhXWvXAGBhe"
      },
      "execution_count": null,
      "outputs": []
    },
    {
      "cell_type": "markdown",
      "source": [
        "##Convert Grayscale to GHE"
      ],
      "metadata": {
        "id": "xGLdHrRaFC-U"
      }
    },
    {
      "cell_type": "markdown",
      "source": [
        "###train set"
      ],
      "metadata": {
        "id": "bakumlWoGeC0"
      }
    },
    {
      "cell_type": "code",
      "source": [
        "gray_train_ce = '/content/drive/MyDrive/Digital Image Project/Old_Data_Set/Gray Scale/train_gray_scale/Cemento_train_gray'\n",
        "ghe_train_ce = '/content/drive/MyDrive/Digital Image Project/Old_Data_Set/GHE/train_GHE/Cemento_train_GHE'\n",
        "try:\n",
        "    makedirs(ghe_train_ce)\n",
        "except:\n",
        "    print (\"Directory already exist, images will be written in asme folder\")\n",
        "\n",
        "# Folder won't used\n",
        "files = os.listdir(gray_train_ce)\n",
        "\n",
        "for image in files:\n",
        "    img1 = cv2_imshow.imread(os.path.join(gray_train_ce,image))\n",
        "    #img1 = np.uint8(image)\n",
        "    gray1 = cv2.cvtColor(img1,cv2.COLOR_BGR2GRAY)\n",
        "    img_his = cv2.equalizeHist(gray1)\n",
        "    cv2.imwrite(os.path.join(ghe_train_ce,image),img_his)"
      ],
      "metadata": {
        "id": "a52jD6LWE4dt"
      },
      "execution_count": null,
      "outputs": []
    },
    {
      "cell_type": "code",
      "source": [
        "gray_train_fi = '/content/drive/MyDrive/Digital Image Project/Old_Data_Set/Gray Scale/train_gray_scale/Fibrous_train_gray'\n",
        "ghe_train_fi ='/content/drive/MyDrive/Digital Image Project/Old_Data_Set/GHE/train_GHE/Fibrous_train_GHE'\n",
        "try:\n",
        "    makedirs(ghe_train_fi)\n",
        "except:\n",
        "    print (\"Directory already exist, images will be written in asme folder\")\n",
        "\n",
        "# Folder won't used\n",
        "files = os.listdir(gray_train_fi)\n",
        "\n",
        "for image in files:\n",
        "    img1 = cv2.imread(os.path.join(gray_train_fi,image))\n",
        "    #img1 = np.uint8(image)\n",
        "    gray1 = cv2.cvtColor(img1,cv2.COLOR_BGR2GRAY)\n",
        "    img_his = cv2.equalizeHist(gray1)\n",
        "    cv2.imwrite(os.path.join(ghe_train_fi,image),img_his)"
      ],
      "metadata": {
        "id": "ip3odwytGmb0"
      },
      "execution_count": null,
      "outputs": []
    },
    {
      "cell_type": "code",
      "source": [
        "gray_train_os = '/content/drive/MyDrive/Digital Image Project/Old_Data_Set/Gray Scale/train_gray_scale/Ossifying_train_gray' \n",
        "ghe_train_os = '/content/drive/MyDrive/Digital Image Project/Old_Data_Set/GHE/train_GHE/Ossifying_train_GHE'\n",
        "try:\n",
        "    makedirs(ghe_train_os)\n",
        "except:\n",
        "    print (\"Directory already exist, images will be written in asme folder\")\n",
        "\n",
        "# Folder won't used\n",
        "files = os.listdir(gray_train_os)\n",
        "\n",
        "for image in files:\n",
        "    img1 = cv2.imread(os.path.join(gray_train_os,image))\n",
        "    #img1 = np.uint8(image)\n",
        "    gray1 = cv2.cvtColor(img1,cv2.COLOR_BGR2GRAY)\n",
        "    img_his = cv2.equalizeHist(gray1)\n",
        "    cv2.imwrite(os.path.join(ghe_train_os,image),img_his)"
      ],
      "metadata": {
        "id": "sTO_Mc_GGq6o"
      },
      "execution_count": null,
      "outputs": []
    },
    {
      "cell_type": "markdown",
      "source": [
        "###test set"
      ],
      "metadata": {
        "id": "EpKM73nZGg7c"
      }
    },
    {
      "cell_type": "code",
      "source": [
        "gray_test_ce = '/content/drive/MyDrive/Digital Image Project/Old_Data_Set/Gray Scale/test_gray_scale/Cemento_test_gray'\n",
        "ghe_test_ce = '/content/drive/MyDrive/Digital Image Project/Old_Data_Set/GHE/test_GHE/Cemento_test_GHE'\n",
        "try:\n",
        "    makedirs(ghe_test_ce)\n",
        "except:\n",
        "    print (\"Directory already exist, images will be written in asme folder\")\n",
        "\n",
        "# Folder won't used\n",
        "files = os.listdir(gray_test_ce)\n",
        "\n",
        "for image in files:\n",
        "    img1 = cv2.imread(os.path.join(gray_test_ce,image))\n",
        "    #img1 = np.uint8(image)\n",
        "    gray1 = cv2.cvtColor(img1,cv2.COLOR_BGR2GRAY)\n",
        "    img_his = cv2.equalizeHist(gray1)\n",
        "    cv2.imwrite(os.path.join(ghe_test_ce,image),img_his)"
      ],
      "metadata": {
        "id": "kA9a__UyGihn"
      },
      "execution_count": null,
      "outputs": []
    },
    {
      "cell_type": "code",
      "source": [
        "gray_test_fi = '/content/drive/MyDrive/Digital Image Project/Old_Data_Set/Gray Scale/test_gray_scale/Fibrous_test_gray'\n",
        "ghe_test_fi = '/content/drive/MyDrive/Digital Image Project/Old_Data_Set/GHE/test_GHE/Fibrous_test_GHE'\n",
        "try:\n",
        "    makedirs(ghe_test_fi)\n",
        "except:\n",
        "    print (\"Directory already exist, images will be written in asme folder\")\n",
        "\n",
        "# Folder won't used\n",
        "files = os.listdir(gray_test_fi)\n",
        "\n",
        "for image in files:\n",
        "    img1 = cv2.imread(os.path.join(gray_test_fi,image))\n",
        "    #img1 = np.uint8(image)\n",
        "    gray1 = cv2.cvtColor(img1,cv2.COLOR_BGR2GRAY)\n",
        "    img_his = cv2.equalizeHist(gray1)\n",
        "    cv2.imwrite(os.path.join(ghe_test_fi,image),img_his)"
      ],
      "metadata": {
        "id": "OGA7OfUvHQq6"
      },
      "execution_count": null,
      "outputs": []
    },
    {
      "cell_type": "code",
      "source": [
        "gray_test_os = '/content/drive/MyDrive/Digital Image Project/Old_Data_Set/Gray Scale/test_gray_scale/Ossifying_test_gray'\n",
        "ghe_test_os = '/content/drive/MyDrive/Digital Image Project/Old_Data_Set/GHE/test_GHE/Ossifying_test_GHE'\n",
        "try:\n",
        "    makedirs(ghe_test_os)\n",
        "except:\n",
        "    print (\"Directory already exist, images will be written in asme folder\")\n",
        "\n",
        "# Folder won't used\n",
        "files = os.listdir(gray_test_os)\n",
        "\n",
        "for image in files:\n",
        "    img1 = cv2.imread(os.path.join(gray_test_os,image))\n",
        "    #img1 = np.uint8(image)\n",
        "    gray1 = cv2.cvtColor(img1,cv2.COLOR_BGR2GRAY)\n",
        "    img_his = cv2.equalizeHist(gray1)\n",
        "    cv2.imwrite(os.path.join(ghe_test_os,image),img_his)"
      ],
      "metadata": {
        "id": "uVyCkDpMHQxE"
      },
      "execution_count": null,
      "outputs": []
    },
    {
      "cell_type": "markdown",
      "source": [
        "##Convert Grayscale to CLAHE"
      ],
      "metadata": {
        "id": "FWV2B7SyFcjP"
      }
    },
    {
      "cell_type": "markdown",
      "source": [
        "###train set"
      ],
      "metadata": {
        "id": "XdYhTvXQHh1Y"
      }
    },
    {
      "cell_type": "code",
      "source": [
        "gray_train_ce = '/content/drive/MyDrive/Digital Image Project/Old_Data_Set/Gray Scale/train_gray_scale/Cemento_train_gray'\n",
        "clahe_train_ce = '/content/drive/MyDrive/Digital Image Project/Old_Data_Set/CLAHE/train_CLAHE/Cemento_train_CLAHE'\n",
        "\n",
        "try:\n",
        "    makedirs(clahe_train_ce)\n",
        "except:\n",
        "    print (\"Directory already exist, images will be written in asme folder\")\n",
        "\n",
        "# Folder won't used\n",
        "files = os.listdir(gray_train_ce)\n",
        "\n",
        "for image in files:\n",
        "    img2 = cv2.imread(os.path.join(gray_train_ce,image))\n",
        "    gray = cv2.cvtColor(img2,cv2.COLOR_BGR2GRAY)\n",
        "    \n",
        "    clahe = cv2.createCLAHE(clipLimit = 9, tileGridSize=(8,8))\n",
        "\n",
        "    img_clahe = clahe.apply(gray)\n",
        "    cv2.imwrite(os.path.join(clahe_train_ce,image),img_clahe)"
      ],
      "metadata": {
        "id": "MuuqV28hFlkv"
      },
      "execution_count": null,
      "outputs": []
    },
    {
      "cell_type": "code",
      "source": [
        "gray_train_fi = '/content/drive/MyDrive/Digital Image Project/Old_Data_Set/Gray Scale/train_gray_scale/Fibrous_train_gray'\n",
        "clahe_train_fi = '/content/drive/MyDrive/Digital Image Project/Old_Data_Set/CLAHE/train_CLAHE/Fibrous_train_CLAHE'\n",
        "\n",
        "try:\n",
        "    makedirs(clahe_train_fi)\n",
        "except:\n",
        "    print (\"Directory already exist, images will be written in asme folder\")\n",
        "\n",
        "# Folder won't used\n",
        "files = os.listdir(gray_train_fi)\n",
        "\n",
        "for image in files:\n",
        "    img2 = cv2.imread(os.path.join(gray_train_fi,image))\n",
        "    gray = cv2.cvtColor(img2,cv2.COLOR_BGR2GRAY)\n",
        "    \n",
        "    clahe = cv2.createCLAHE(clipLimit = 9, tileGridSize=(8,8))\n",
        "\n",
        "    img_clahe = clahe.apply(gray)\n",
        "    cv2.imwrite(os.path.join(clahe_train_fi,image),img_clahe)"
      ],
      "metadata": {
        "id": "vut0ZCJzHtp_"
      },
      "execution_count": null,
      "outputs": []
    },
    {
      "cell_type": "code",
      "source": [
        "gray_train_os = '/content/drive/MyDrive/Digital Image Project/Old_Data_Set/Gray Scale/train_gray_scale/Ossifying_train_gray'\n",
        "clahe_train_os = '/content/drive/MyDrive/Digital Image Project/Old_Data_Set/CLAHE/train_CLAHE/Ossifying_train_CLAHE'\n",
        "\n",
        "try:\n",
        "    makedirs(clahe_train_os)\n",
        "except:\n",
        "    print (\"Directory already exist, images will be written in asme folder\")\n",
        "\n",
        "# Folder won't used\n",
        "files = os.listdir(gray_train_os)\n",
        "\n",
        "for image in files:\n",
        "    img2 = cv2.imread(os.path.join(gray_train_os,image))\n",
        "    gray = cv2.cvtColor(img2,cv2.COLOR_BGR2GRAY)\n",
        "    \n",
        "    clahe = cv2.createCLAHE(clipLimit = 9, tileGridSize=(8,8))\n",
        "\n",
        "    img_clahe = clahe.apply(gray)\n",
        "    cv2.imwrite(os.path.join(clahe_train_os,image),img_clahe)"
      ],
      "metadata": {
        "id": "6GOUlyAYHtsy"
      },
      "execution_count": null,
      "outputs": []
    },
    {
      "cell_type": "markdown",
      "source": [
        "###test set"
      ],
      "metadata": {
        "id": "sC2sFgBlHouy"
      }
    },
    {
      "cell_type": "code",
      "source": [
        "gray_test_ce = '/content/drive/MyDrive/Digital Image Project/Old_Data_Set/Gray Scale/test_gray_scale/Cemento_test_gray'\n",
        "clahe_test_ce = '/content/drive/MyDrive/Digital Image Project/Old_Data_Set/CLAHE/test_CLAHE/Cemento_test_CLAHE'\n",
        "\n",
        "try:\n",
        "    makedirs(clahe_test_ce)\n",
        "except:\n",
        "    print (\"Directory already exist, images will be written in asme folder\")\n",
        "\n",
        "# Folder won't used\n",
        "files = os.listdir(gray_test_ce)\n",
        "\n",
        "for image in files:\n",
        "    img2 = cv2.imread(os.path.join(gray_test_ce,image))\n",
        "    gray = cv2.cvtColor(img2,cv2.COLOR_BGR2GRAY)\n",
        "    \n",
        "    clahe = cv2.createCLAHE(clipLimit = 9, tileGridSize=(8,8))\n",
        "\n",
        "    img_clahe = clahe.apply(gray)\n",
        "    cv2.imwrite(os.path.join(clahe_test_ce,image),img_clahe)"
      ],
      "metadata": {
        "id": "rfUF7y37HrmZ"
      },
      "execution_count": null,
      "outputs": []
    },
    {
      "cell_type": "code",
      "source": [
        "gray_test_fi = '/content/drive/MyDrive/Digital Image Project/Old_Data_Set/Gray Scale/test_gray_scale/Fibrous_test_gray'\n",
        "clahe_test_fi = '/content/drive/MyDrive/Digital Image Project/Old_Data_Set/CLAHE/test_CLAHE/Fibrous_test_CLAHE'\n",
        "\n",
        "try:\n",
        "    makedirs(clahe_test_fi)\n",
        "except:\n",
        "    print (\"Directory already exist, images will be written in asme folder\")\n",
        "\n",
        "# Folder won't used\n",
        "files = os.listdir(gray_test_fi)\n",
        "\n",
        "for image in files:\n",
        "    img2 = cv2.imread(os.path.join(gray_test_fi,image))\n",
        "    gray = cv2.cvtColor(img2,cv2.COLOR_BGR2GRAY)\n",
        "    \n",
        "    clahe = cv2.createCLAHE(clipLimit = 9, tileGridSize=(8,8))\n",
        "\n",
        "    img_clahe = clahe.apply(gray)\n",
        "    cv2.imwrite(os.path.join(clahe_test_fi,image),img_clahe)"
      ],
      "metadata": {
        "id": "mmdDify_IDe6"
      },
      "execution_count": null,
      "outputs": []
    },
    {
      "cell_type": "code",
      "source": [
        "gray_test_os = '/content/drive/MyDrive/Digital Image Project/Old_Data_Set/Gray Scale/test_gray_scale/Ossifying_test_gray'\n",
        "clahe_test_os = '/content/drive/MyDrive/Digital Image Project/Old_Data_Set/CLAHE/test_CLAHE/Ossifying_test_CLAHE'\n",
        "\n",
        "try:\n",
        "    makedirs(clahe_test_os)\n",
        "except:\n",
        "    print (\"Directory already exist, images will be written in asme folder\")\n",
        "\n",
        "# Folder won't used\n",
        "files = os.listdir(gray_test_os)\n",
        "\n",
        "for image in files:\n",
        "    img2 = cv2.imread(os.path.join(gray_test_os,image))\n",
        "    gray = cv2.cvtColor(img2,cv2.COLOR_BGR2GRAY)\n",
        "    \n",
        "    clahe = cv2.createCLAHE(clipLimit = 9, tileGridSize=(8,8))\n",
        "\n",
        "    img_clahe = clahe.apply(gray)\n",
        "    cv2.imwrite(os.path.join(clahe_test_os,image),img_clahe)"
      ],
      "metadata": {
        "id": "mYEpKSccIDhf"
      },
      "execution_count": null,
      "outputs": []
    },
    {
      "cell_type": "markdown",
      "source": [
        "##GHE and Piecewise-Linear "
      ],
      "metadata": {
        "id": "j01s-jR1IVzs"
      }
    },
    {
      "cell_type": "code",
      "source": [
        "def pixelVal(pix, r1, s1, r2, s2): \n",
        "    if (0 <= pix and pix <= r1): \n",
        "        return (s1/r1)*pix \n",
        "    elif (r1 < pix and pix <= r2): \n",
        "        return ((s2-s1)/(r2-r1)) * (pix-r1) + s1 \n",
        "    else: \n",
        "        return ((255-s2)/(255-r2)) * (pix-r2) + s2"
      ],
      "metadata": {
        "id": "JxAB0EyCIc-4"
      },
      "execution_count": null,
      "outputs": []
    },
    {
      "cell_type": "markdown",
      "source": [
        "###trsin set"
      ],
      "metadata": {
        "id": "Xc4dpA7wIjkO"
      }
    },
    {
      "cell_type": "code",
      "source": [
        "ghe_train_ce = '/content/drive/MyDrive/Digital Image Project/Old_Data_Set/GHE/train_GHE/Cemento_train_GHE'\n",
        "ghe_p_train_ce ='/content/drive/MyDrive/Digital Image Project/Old_Data_Set/GHE + P/train_ghe+p/Cemento_train_GHE+P'\n",
        "try:\n",
        "    makedirs(ghe_p_train_ce)\n",
        "except:\n",
        "    print (\"Directory already exist, images will be written in asme folder\")\n",
        "\n",
        "# Folder won't used\n",
        "files = os.listdir(ghe_train_ce)\n",
        "\n",
        "for image in files:\n",
        "    img2 = cv2.imread(os.path.join(ghe_train_ce,image))\n",
        "    r1 =60\n",
        "    s1 = 0\n",
        "    r2= 210\n",
        "    s2 = 255\n",
        "    pixelVal_vec = np.vectorize(pixelVal)\n",
        "    img_contrast_stretched = pixelVal_vec(img2, r1, s1, r2, s2)\n",
        "    \n",
        "    cv2.imwrite(os.path.join(ghe_p_train_ce,image),img_contrast_stretched)"
      ],
      "metadata": {
        "id": "FY6p90xLIlgl"
      },
      "execution_count": null,
      "outputs": []
    },
    {
      "cell_type": "code",
      "source": [
        "ghe_train_fi = '/content/drive/MyDrive/Digital Image Project/Old_Data_Set/GHE/train_GHE/Fibrous_train_GHE'\n",
        "ghe_p_train_fi ='/content/drive/MyDrive/Digital Image Project/Old_Data_Set/GHE + P/train_ghe+p/Fibrous_train_GHE+P'\n",
        "try:\n",
        "    makedirs(ghe_p_train_fi)\n",
        "except:\n",
        "    print (\"Directory already exist, images will be written in asme folder\")\n",
        "\n",
        "# Folder won't used\n",
        "files = os.listdir(ghe_train_fi)\n",
        "\n",
        "for image in files:\n",
        "    img2 = cv2.imread(os.path.join(ghe_train_fi,image))\n",
        "    r1 =60\n",
        "    s1 = 0\n",
        "    r2= 210\n",
        "    s2 = 255\n",
        "    pixelVal_vec = np.vectorize(pixelVal)\n",
        "    img_contrast_stretched = pixelVal_vec(img2, r1, s1, r2, s2)\n",
        "    \n",
        "    cv2.imwrite(os.path.join(ghe_p_train_fi,image),img_contrast_stretched)"
      ],
      "metadata": {
        "id": "mvnbgm18JAWQ"
      },
      "execution_count": null,
      "outputs": []
    },
    {
      "cell_type": "code",
      "source": [
        "ghe_train_os = '/content/drive/MyDrive/Digital Image Project/Old_Data_Set/GHE/train_GHE/Ossifying_train_GHE'\n",
        "ghe_p_train_os ='/content/drive/MyDrive/Digital Image Project/Old_Data_Set/GHE + P/train_ghe+p/Ossifying_train_GHE+P'\n",
        "try:\n",
        "    makedirs(ghe_p_train_os)\n",
        "except:\n",
        "    print (\"Directory already exist, images will be written in asme folder\")\n",
        "\n",
        "# Folder won't used\n",
        "files = os.listdir(ghe_train_os)\n",
        "\n",
        "for image in files:\n",
        "    img2 = cv2.imread(os.path.join(ghe_train_os,image))\n",
        "    r1 =60\n",
        "    s1 = 0\n",
        "    r2= 210\n",
        "    s2 = 255\n",
        "    pixelVal_vec = np.vectorize(pixelVal)\n",
        "    img_contrast_stretched = pixelVal_vec(img2, r1, s1, r2, s2)\n",
        "    \n",
        "    cv2.imwrite(os.path.join(ghe_p_train_os,image),img_contrast_stretched)"
      ],
      "metadata": {
        "id": "RQ3oNolpJAY7"
      },
      "execution_count": null,
      "outputs": []
    },
    {
      "cell_type": "markdown",
      "source": [
        "###test set"
      ],
      "metadata": {
        "id": "0l5Tb8QDIl2d"
      }
    },
    {
      "cell_type": "code",
      "source": [
        "ghe_test_ce = '/content/drive/MyDrive/Digital Image Project/Old_Data_Set/GHE/test_GHE/Cemento_test_GHE'\n",
        "ghe_p_test_ce ='/content/drive/MyDrive/Digital Image Project/Old_Data_Set/GHE + P/test_ghe+p/Cemento_test_GHE+P'\n",
        "try:\n",
        "    makedirs(ghe_p_test_ce)\n",
        "except:\n",
        "    print (\"Directory already exist, images will be written in asme folder\")\n",
        "\n",
        "# Folder won't used\n",
        "files = os.listdir(ghe_test_ce)\n",
        "\n",
        "for image in files:\n",
        "    img2 = cv2.imread(os.path.join(ghe_test_ce,image))\n",
        "    r1 =60\n",
        "    s1 = 0\n",
        "    r2= 210\n",
        "    s2 = 255\n",
        "    pixelVal_vec = np.vectorize(pixelVal)\n",
        "    img_contrast_stretched = pixelVal_vec(img2, r1, s1, r2, s2)\n",
        "    \n",
        "    cv2.imwrite(os.path.join(ghe_p_test_ce,image),img_contrast_stretched)"
      ],
      "metadata": {
        "id": "dUTyqYGUIoJk"
      },
      "execution_count": null,
      "outputs": []
    },
    {
      "cell_type": "code",
      "source": [
        "ghe_test_fi = '/content/drive/MyDrive/Digital Image Project/Old_Data_Set/GHE/test_GHE/Fibrous_test_GHE'\n",
        "ghe_p_test_fi ='/content/drive/MyDrive/Digital Image Project/Old_Data_Set/GHE + P/test_ghe+p/Fibrous_test_GHE+P'\n",
        "try:\n",
        "    makedirs(ghe_p_test_fi)\n",
        "except:\n",
        "    print (\"Directory already exist, images will be written in asme folder\")\n",
        "\n",
        "# Folder won't used\n",
        "files = os.listdir(ghe_test_fi)\n",
        "\n",
        "for image in files:\n",
        "    img2 = cv2.imread(os.path.join(ghe_test_fi,image))\n",
        "    r1 =60\n",
        "    s1 = 0\n",
        "    r2= 210\n",
        "    s2 = 255\n",
        "    pixelVal_vec = np.vectorize(pixelVal)\n",
        "    img_contrast_stretched = pixelVal_vec(img2, r1, s1, r2, s2)\n",
        "    \n",
        "    cv2.imwrite(os.path.join(ghe_p_test_fi,image),img_contrast_stretched)"
      ],
      "metadata": {
        "id": "UYGtQYq4JR7R"
      },
      "execution_count": null,
      "outputs": []
    },
    {
      "cell_type": "code",
      "source": [
        "ghe_test_os = '/content/drive/MyDrive/Digital Image Project/Old_Data_Set/GHE/test_GHE/Ossifying_test_GHE'\n",
        "ghe_p_test_os ='/content/drive/MyDrive/Digital Image Project/Old_Data_Set/GHE + P/test_ghe+p/Ossifying_test_GHE+P'\n",
        "try:\n",
        "    makedirs(ghe_p_test_os)\n",
        "except:\n",
        "    print (\"Directory already exist, images will be written in asme folder\")\n",
        "\n",
        "# Folder won't used\n",
        "files = os.listdir(ghe_test_os)\n",
        "\n",
        "for image in files:\n",
        "    img2 = cv2.imread(os.path.join(ghe_test_os,image))\n",
        "    r1 =60\n",
        "    s1 = 0\n",
        "    r2= 210\n",
        "    s2 = 255\n",
        "    pixelVal_vec = np.vectorize(pixelVal)\n",
        "    img_contrast_stretched = pixelVal_vec(img2, r1, s1, r2, s2)\n",
        "    \n",
        "    cv2.imwrite(os.path.join(ghe_p_test_os,image),img_contrast_stretched)"
      ],
      "metadata": {
        "id": "6A57JktRJR_x"
      },
      "execution_count": null,
      "outputs": []
    },
    {
      "cell_type": "markdown",
      "source": [
        "##CLAHE and Piecewise-Linear "
      ],
      "metadata": {
        "id": "hHvSTlwTJgSN"
      }
    },
    {
      "cell_type": "markdown",
      "source": [
        "###Train Set"
      ],
      "metadata": {
        "id": "SKeu9V7aJn3x"
      }
    },
    {
      "cell_type": "code",
      "source": [
        "clahe_train_ce = '/content/drive/MyDrive/Digital Image Project/Old_Data_Set/CLAHE/train_CLAHE/Cemento_train_CLAHE'\n",
        "clahe_p_train_ce ='/content/drive/MyDrive/Digital Image Project/Old_Data_Set/CLAHE + P/train_CLAHE+P/Cemento_train_CLAHE+P'\n",
        "try:\n",
        "    makedirs(clahe_p_train_ce)\n",
        "except:\n",
        "    print (\"Directory already exist, images will be written in asme folder\")\n",
        "\n",
        "# Folder won't used\n",
        "files = os.listdir(clahe_train_ce)\n",
        "\n",
        "for image in files:\n",
        "    img2 = cv2.imread(os.path.join(clahe_train_ce,image))\n",
        "    r1 =60\n",
        "    s1 = 0\n",
        "    r2= 210\n",
        "    s2 = 255\n",
        "    pixelVal_vec = np.vectorize(pixelVal)\n",
        "    img_contrast_stretched = pixelVal_vec(img2, r1, s1, r2, s2)\n",
        "    \n",
        "    cv2.imwrite(os.path.join(clahe_p_train_ce,image),img_contrast_stretched)"
      ],
      "metadata": {
        "id": "PB49Uo4SJnM8"
      },
      "execution_count": null,
      "outputs": []
    },
    {
      "cell_type": "code",
      "source": [
        "clahe_train_fi = '/content/drive/MyDrive/Digital Image Project/Old_Data_Set/CLAHE/train_CLAHE/Fibrous_train_CLAHE'\n",
        "clahe_p_train_fi ='/content/drive/MyDrive/Digital Image Project/Old_Data_Set/CLAHE + P/train_CLAHE+P/Fibrous_train_CLAHE+P'\n",
        "try:\n",
        "    makedirs(clahe_p_train_fi)\n",
        "except:\n",
        "    print (\"Directory already exist, images will be written in asme folder\")\n",
        "\n",
        "# Folder won't used\n",
        "files = os.listdir(clahe_train_fi)\n",
        "\n",
        "for image in files:\n",
        "    img2 = cv2.imread(os.path.join(clahe_train_fi,image))\n",
        "    r1 =60\n",
        "    s1 = 0\n",
        "    r2= 210\n",
        "    s2 = 255\n",
        "    pixelVal_vec = np.vectorize(pixelVal)\n",
        "    img_contrast_stretched = pixelVal_vec(img2, r1, s1, r2, s2)\n",
        "    \n",
        "    cv2.imwrite(os.path.join(clahe_p_train_fi,image),img_contrast_stretched)"
      ],
      "metadata": {
        "id": "fNMLC-VsJxS3"
      },
      "execution_count": null,
      "outputs": []
    },
    {
      "cell_type": "code",
      "source": [
        "clahe_train_os = '/content/drive/MyDrive/Digital Image Project/Old_Data_Set/CLAHE/train_CLAHE/Ossifying_train_CLAHE'\n",
        "clahe_p_train_os ='/content/drive/MyDrive/Digital Image Project/Old_Data_Set/CLAHE + P/train_CLAHE+P/Ossifying_train_CLAHE+P'\n",
        "try:\n",
        "    makedirs(clahe_p_train_os)\n",
        "except:\n",
        "    print (\"Directory already exist, images will be written in asme folder\")\n",
        "\n",
        "# Folder won't used\n",
        "files = os.listdir(clahe_train_os)\n",
        "\n",
        "for image in files:\n",
        "    img2 = cv2.imread(os.path.join(clahe_train_os,image))\n",
        "    r1 =60\n",
        "    s1 = 0\n",
        "    r2= 210\n",
        "    s2 = 255\n",
        "    pixelVal_vec = np.vectorize(pixelVal)\n",
        "    img_contrast_stretched = pixelVal_vec(img2, r1, s1, r2, s2)\n",
        "    \n",
        "    cv2.imwrite(os.path.join(clahe_p_train_os,image),img_contrast_stretched)"
      ],
      "metadata": {
        "id": "yUM3Hqf8JxVS"
      },
      "execution_count": null,
      "outputs": []
    },
    {
      "cell_type": "markdown",
      "source": [
        "###Test Set"
      ],
      "metadata": {
        "id": "7_gPdXVtJq8b"
      }
    },
    {
      "cell_type": "code",
      "source": [
        "clahe_test_ce = '/content/drive/MyDrive/Digital Image Project/Old_Data_Set/CLAHE/test_CLAHE/Cemento_test_CLAHE'\n",
        "clahe_p_test_ce ='/content/drive/MyDrive/Digital Image Project/Old_Data_Set/CLAHE + P/test_CLAHE+P/Cemento_test_CLAHE+P'\n",
        "try:\n",
        "    makedirs(clahe_p_test_ce)\n",
        "except:\n",
        "    print (\"Directory already exist, images will be written in asme folder\")\n",
        "\n",
        "# Folder won't used\n",
        "files = os.listdir(clahe_test_ce)\n",
        "\n",
        "for image in files:\n",
        "    img2 = cv2.imread(os.path.join(clahe_test_ce,image))\n",
        "    r1 =60\n",
        "    s1 = 0\n",
        "    r2= 210\n",
        "    s2 = 255\n",
        "    pixelVal_vec = np.vectorize(pixelVal)\n",
        "    img_contrast_stretched = pixelVal_vec(img2, r1, s1, r2, s2)\n",
        "    \n",
        "    cv2.imwrite(os.path.join(clahe_p_test_ce,image),img_contrast_stretched)"
      ],
      "metadata": {
        "id": "SwWaZ_StJtOg"
      },
      "execution_count": null,
      "outputs": []
    },
    {
      "cell_type": "code",
      "source": [
        "clahe_test_fi = '/content/drive/MyDrive/Digital Image Project/Old_Data_Set/CLAHE/test_CLAHE/Fibrous_test_CLAHE'\n",
        "clahe_p_test_fi ='/content/drive/MyDrive/Digital Image Project/Old_Data_Set/CLAHE + P/test_CLAHE+P/Fibrous_test_CLAHE+P'\n",
        "try:\n",
        "    makedirs(clahe_p_test_fi)\n",
        "except:\n",
        "    print (\"Directory already exist, images will be written in asme folder\")\n",
        "\n",
        "# Folder won't used\n",
        "files = os.listdir(clahe_test_fi)\n",
        "\n",
        "for image in files:\n",
        "    img2 = cv2.imread(os.path.join(clahe_test_fi,image))\n",
        "    r1 =60\n",
        "    s1 = 0\n",
        "    r2= 210\n",
        "    s2 = 255\n",
        "    pixelVal_vec = np.vectorize(pixelVal)\n",
        "    img_contrast_stretched = pixelVal_vec(img2, r1, s1, r2, s2)\n",
        "    \n",
        "    cv2.imwrite(os.path.join(clahe_p_test_fi,image),img_contrast_stretched)"
      ],
      "metadata": {
        "id": "cJJOpFYwJ7oX"
      },
      "execution_count": null,
      "outputs": []
    },
    {
      "cell_type": "code",
      "source": [
        "clahe_test_os = '/content/drive/MyDrive/Digital Image Project/Old_Data_Set/CLAHE/test_CLAHE/Ossifying_test_CLAHE'\n",
        "clahe_p_test_os ='/content/drive/MyDrive/Digital Image Project/Old_Data_Set/CLAHE + P/test_CLAHE+P/Ossifying_test_CLAHE+P'\n",
        "try:\n",
        "    makedirs(clahe_p_test_os)\n",
        "except:\n",
        "    print (\"Directory already exist, images will be written in asme folder\")\n",
        "\n",
        "# Folder won't used\n",
        "files = os.listdir(clahe_test_os)\n",
        "\n",
        "for image in files:\n",
        "    img2 = cv2.imread(os.path.join(clahe_test_os,image))\n",
        "    r1 =60\n",
        "    s1 = 0\n",
        "    r2= 210\n",
        "    s2 = 255\n",
        "    pixelVal_vec = np.vectorize(pixelVal)\n",
        "    img_contrast_stretched = pixelVal_vec(img2, r1, s1, r2, s2)\n",
        "    \n",
        "    cv2.imwrite(os.path.join(clahe_p_test_os,image),img_contrast_stretched)"
      ],
      "metadata": {
        "id": "4KXe9bsgJ7zF"
      },
      "execution_count": null,
      "outputs": []
    },
    {
      "cell_type": "markdown",
      "source": [
        "#Preprocess Data"
      ],
      "metadata": {
        "id": "EgGggumfXImz"
      }
    },
    {
      "cell_type": "code",
      "source": [
        "IMAGE_SIZE = [224,224]\n",
        "train_datagen = ImageDataGenerator(\n",
        "                            rescale=1./255, #rescal Grayscale\n",
        "                            horizontal_flip = True,\n",
        "                            vertical_flip = True,\n",
        "                            validation_split = 0.2\n",
        ")\n",
        "\n",
        "validation_datagen = ImageDataGenerator(\n",
        "    rescale = 1./255, validation_split = 0.2\n",
        ")\n",
        "\n",
        "test_datagen = ImageDataGenerator(\n",
        "    rescale = 1./255\n",
        ")"
      ],
      "metadata": {
        "id": "E1wKqBRcIvFR"
      },
      "execution_count": null,
      "outputs": []
    },
    {
      "cell_type": "markdown",
      "source": [
        "#Model ResNet50"
      ],
      "metadata": {
        "id": "nR0XZInWK0G9"
      }
    },
    {
      "cell_type": "markdown",
      "source": [
        "#------------------------------------Grayscale-------------------------"
      ],
      "metadata": {
        "id": "dVZwWGqkc-WG"
      }
    },
    {
      "cell_type": "markdown",
      "source": [
        "###Grayscale"
      ],
      "metadata": {
        "id": "hKzkjXFeYyVG"
      }
    },
    {
      "cell_type": "code",
      "source": [
        "test_Path_gray = '/content/drive/MyDrive/Digital Image Project/Old_Data_Set/Gray Scale/test_gray_scale'\n",
        "train_Path_gray =  '/content/drive/MyDrive/Digital Image Project/Old_Data_Set/Gray Scale/train_gray_scale'"
      ],
      "metadata": {
        "id": "rFK7VDt1WtHw"
      },
      "execution_count": null,
      "outputs": []
    },
    {
      "cell_type": "code",
      "source": [
        "training_set_gray = train_datagen.flow_from_directory(\n",
        "    train_Path_gray,\n",
        "    target_size = IMAGE_SIZE,\n",
        "    batch_size = 32,\n",
        "    class_mode = 'categorical')\n",
        "\n",
        "\n",
        "\n",
        "validation_set_gray = validation_datagen.flow_from_directory(\n",
        "    train_Path_gray,\n",
        "    target_size = IMAGE_SIZE,\n",
        "    batch_size = 32,\n",
        "    class_mode = 'categorical')\n",
        "\n",
        "\n",
        "\n",
        "test_set_gray = test_datagen.flow_from_directory(\n",
        "    test_Path_gray,\n",
        "    target_size = IMAGE_SIZE,\n",
        "    batch_size = 32,\n",
        "    class_mode = 'categorical'\n",
        ")"
      ],
      "metadata": {
        "id": "7A327gteXTaY"
      },
      "execution_count": null,
      "outputs": []
    },
    {
      "cell_type": "markdown",
      "source": [
        "###Model Grayscale"
      ],
      "metadata": {
        "id": "h1OLFzuXLfho"
      }
    },
    {
      "cell_type": "code",
      "source": [
        "resnet = ResNet50(\n",
        "    input_shape = IMAGE_SIZE + [3], #......\n",
        "    weights = 'imagenet', \n",
        "    include_top = False )"
      ],
      "metadata": {
        "colab": {
          "base_uri": "https://localhost:8080/"
        },
        "id": "Lie3cy9wXTc_",
        "outputId": "11bc1833-f409-4aa6-9ab2-ebb6168b521f"
      },
      "execution_count": null,
      "outputs": [
        {
          "output_type": "stream",
          "name": "stdout",
          "text": [
            "Downloading data from https://storage.googleapis.com/tensorflow/keras-applications/resnet/resnet50_weights_tf_dim_ordering_tf_kernels_notop.h5\n",
            "94765736/94765736 [==============================] - 6s 0us/step\n"
          ]
        }
      ]
    },
    {
      "cell_type": "code",
      "source": [
        "for layer in resnet.layers:\n",
        "    layer.trainable = False\n",
        "import glob\n",
        "folders_gray = glob.glob(train_Path_gray + '/*')\n",
        "folders_gray"
      ],
      "metadata": {
        "colab": {
          "base_uri": "https://localhost:8080/"
        },
        "id": "VUvUCz08XTf3",
        "outputId": "c0def76b-0a43-419d-adf9-0c3c5392d81f"
      },
      "execution_count": null,
      "outputs": [
        {
          "output_type": "execute_result",
          "data": {
            "text/plain": [
              "['/content/drive/MyDrive/Digital Image Project/Old_Data_Set/Gray Scale/train_gray_scale/Cemento_train_gray',\n",
              " '/content/drive/MyDrive/Digital Image Project/Old_Data_Set/Gray Scale/train_gray_scale/Fibrous_train_gray',\n",
              " '/content/drive/MyDrive/Digital Image Project/Old_Data_Set/Gray Scale/train_gray_scale/Ossifying_train_gray']"
            ]
          },
          "metadata": {},
          "execution_count": 8
        }
      ]
    },
    {
      "cell_type": "code",
      "source": [
        "x = Flatten() (resnet.output)\n",
        "prediction = Dense(len(folders_gray), activation = 'softmax')(x)\n",
        "resnet50_model = Model(inputs = resnet.input, outputs = prediction)\n",
        "resnet50_model.compile (\n",
        "    loss = 'categorical_crossentropy',\n",
        "    optimizer = 'adam',\n",
        "    metrics = ['accuracy']\n",
        ")"
      ],
      "metadata": {
        "id": "QPXYlUmmXTkC"
      },
      "execution_count": null,
      "outputs": []
    },
    {
      "cell_type": "code",
      "source": [
        "resnet.summary()"
      ],
      "metadata": {
        "id": "iiEoxLlHVvnU",
        "colab": {
          "base_uri": "https://localhost:8080/"
        },
        "outputId": "e001711e-74c8-48b0-d7df-7f5f563839cf"
      },
      "execution_count": null,
      "outputs": [
        {
          "output_type": "stream",
          "name": "stdout",
          "text": [
            "Model: \"resnet50\"\n",
            "__________________________________________________________________________________________________\n",
            " Layer (type)                   Output Shape         Param #     Connected to                     \n",
            "==================================================================================================\n",
            " input_1 (InputLayer)           [(None, 224, 224, 3  0           []                               \n",
            "                                )]                                                                \n",
            "                                                                                                  \n",
            " conv1_pad (ZeroPadding2D)      (None, 230, 230, 3)  0           ['input_1[0][0]']                \n",
            "                                                                                                  \n",
            " conv1_conv (Conv2D)            (None, 112, 112, 64  9472        ['conv1_pad[0][0]']              \n",
            "                                )                                                                 \n",
            "                                                                                                  \n",
            " conv1_bn (BatchNormalization)  (None, 112, 112, 64  256         ['conv1_conv[0][0]']             \n",
            "                                )                                                                 \n",
            "                                                                                                  \n",
            " conv1_relu (Activation)        (None, 112, 112, 64  0           ['conv1_bn[0][0]']               \n",
            "                                )                                                                 \n",
            "                                                                                                  \n",
            " pool1_pad (ZeroPadding2D)      (None, 114, 114, 64  0           ['conv1_relu[0][0]']             \n",
            "                                )                                                                 \n",
            "                                                                                                  \n",
            " pool1_pool (MaxPooling2D)      (None, 56, 56, 64)   0           ['pool1_pad[0][0]']              \n",
            "                                                                                                  \n",
            " conv2_block1_1_conv (Conv2D)   (None, 56, 56, 64)   4160        ['pool1_pool[0][0]']             \n",
            "                                                                                                  \n",
            " conv2_block1_1_bn (BatchNormal  (None, 56, 56, 64)  256         ['conv2_block1_1_conv[0][0]']    \n",
            " ization)                                                                                         \n",
            "                                                                                                  \n",
            " conv2_block1_1_relu (Activatio  (None, 56, 56, 64)  0           ['conv2_block1_1_bn[0][0]']      \n",
            " n)                                                                                               \n",
            "                                                                                                  \n",
            " conv2_block1_2_conv (Conv2D)   (None, 56, 56, 64)   36928       ['conv2_block1_1_relu[0][0]']    \n",
            "                                                                                                  \n",
            " conv2_block1_2_bn (BatchNormal  (None, 56, 56, 64)  256         ['conv2_block1_2_conv[0][0]']    \n",
            " ization)                                                                                         \n",
            "                                                                                                  \n",
            " conv2_block1_2_relu (Activatio  (None, 56, 56, 64)  0           ['conv2_block1_2_bn[0][0]']      \n",
            " n)                                                                                               \n",
            "                                                                                                  \n",
            " conv2_block1_0_conv (Conv2D)   (None, 56, 56, 256)  16640       ['pool1_pool[0][0]']             \n",
            "                                                                                                  \n",
            " conv2_block1_3_conv (Conv2D)   (None, 56, 56, 256)  16640       ['conv2_block1_2_relu[0][0]']    \n",
            "                                                                                                  \n",
            " conv2_block1_0_bn (BatchNormal  (None, 56, 56, 256)  1024       ['conv2_block1_0_conv[0][0]']    \n",
            " ization)                                                                                         \n",
            "                                                                                                  \n",
            " conv2_block1_3_bn (BatchNormal  (None, 56, 56, 256)  1024       ['conv2_block1_3_conv[0][0]']    \n",
            " ization)                                                                                         \n",
            "                                                                                                  \n",
            " conv2_block1_add (Add)         (None, 56, 56, 256)  0           ['conv2_block1_0_bn[0][0]',      \n",
            "                                                                  'conv2_block1_3_bn[0][0]']      \n",
            "                                                                                                  \n",
            " conv2_block1_out (Activation)  (None, 56, 56, 256)  0           ['conv2_block1_add[0][0]']       \n",
            "                                                                                                  \n",
            " conv2_block2_1_conv (Conv2D)   (None, 56, 56, 64)   16448       ['conv2_block1_out[0][0]']       \n",
            "                                                                                                  \n",
            " conv2_block2_1_bn (BatchNormal  (None, 56, 56, 64)  256         ['conv2_block2_1_conv[0][0]']    \n",
            " ization)                                                                                         \n",
            "                                                                                                  \n",
            " conv2_block2_1_relu (Activatio  (None, 56, 56, 64)  0           ['conv2_block2_1_bn[0][0]']      \n",
            " n)                                                                                               \n",
            "                                                                                                  \n",
            " conv2_block2_2_conv (Conv2D)   (None, 56, 56, 64)   36928       ['conv2_block2_1_relu[0][0]']    \n",
            "                                                                                                  \n",
            " conv2_block2_2_bn (BatchNormal  (None, 56, 56, 64)  256         ['conv2_block2_2_conv[0][0]']    \n",
            " ization)                                                                                         \n",
            "                                                                                                  \n",
            " conv2_block2_2_relu (Activatio  (None, 56, 56, 64)  0           ['conv2_block2_2_bn[0][0]']      \n",
            " n)                                                                                               \n",
            "                                                                                                  \n",
            " conv2_block2_3_conv (Conv2D)   (None, 56, 56, 256)  16640       ['conv2_block2_2_relu[0][0]']    \n",
            "                                                                                                  \n",
            " conv2_block2_3_bn (BatchNormal  (None, 56, 56, 256)  1024       ['conv2_block2_3_conv[0][0]']    \n",
            " ization)                                                                                         \n",
            "                                                                                                  \n",
            " conv2_block2_add (Add)         (None, 56, 56, 256)  0           ['conv2_block1_out[0][0]',       \n",
            "                                                                  'conv2_block2_3_bn[0][0]']      \n",
            "                                                                                                  \n",
            " conv2_block2_out (Activation)  (None, 56, 56, 256)  0           ['conv2_block2_add[0][0]']       \n",
            "                                                                                                  \n",
            " conv2_block3_1_conv (Conv2D)   (None, 56, 56, 64)   16448       ['conv2_block2_out[0][0]']       \n",
            "                                                                                                  \n",
            " conv2_block3_1_bn (BatchNormal  (None, 56, 56, 64)  256         ['conv2_block3_1_conv[0][0]']    \n",
            " ization)                                                                                         \n",
            "                                                                                                  \n",
            " conv2_block3_1_relu (Activatio  (None, 56, 56, 64)  0           ['conv2_block3_1_bn[0][0]']      \n",
            " n)                                                                                               \n",
            "                                                                                                  \n",
            " conv2_block3_2_conv (Conv2D)   (None, 56, 56, 64)   36928       ['conv2_block3_1_relu[0][0]']    \n",
            "                                                                                                  \n",
            " conv2_block3_2_bn (BatchNormal  (None, 56, 56, 64)  256         ['conv2_block3_2_conv[0][0]']    \n",
            " ization)                                                                                         \n",
            "                                                                                                  \n",
            " conv2_block3_2_relu (Activatio  (None, 56, 56, 64)  0           ['conv2_block3_2_bn[0][0]']      \n",
            " n)                                                                                               \n",
            "                                                                                                  \n",
            " conv2_block3_3_conv (Conv2D)   (None, 56, 56, 256)  16640       ['conv2_block3_2_relu[0][0]']    \n",
            "                                                                                                  \n",
            " conv2_block3_3_bn (BatchNormal  (None, 56, 56, 256)  1024       ['conv2_block3_3_conv[0][0]']    \n",
            " ization)                                                                                         \n",
            "                                                                                                  \n",
            " conv2_block3_add (Add)         (None, 56, 56, 256)  0           ['conv2_block2_out[0][0]',       \n",
            "                                                                  'conv2_block3_3_bn[0][0]']      \n",
            "                                                                                                  \n",
            " conv2_block3_out (Activation)  (None, 56, 56, 256)  0           ['conv2_block3_add[0][0]']       \n",
            "                                                                                                  \n",
            " conv3_block1_1_conv (Conv2D)   (None, 28, 28, 128)  32896       ['conv2_block3_out[0][0]']       \n",
            "                                                                                                  \n",
            " conv3_block1_1_bn (BatchNormal  (None, 28, 28, 128)  512        ['conv3_block1_1_conv[0][0]']    \n",
            " ization)                                                                                         \n",
            "                                                                                                  \n",
            " conv3_block1_1_relu (Activatio  (None, 28, 28, 128)  0          ['conv3_block1_1_bn[0][0]']      \n",
            " n)                                                                                               \n",
            "                                                                                                  \n",
            " conv3_block1_2_conv (Conv2D)   (None, 28, 28, 128)  147584      ['conv3_block1_1_relu[0][0]']    \n",
            "                                                                                                  \n",
            " conv3_block1_2_bn (BatchNormal  (None, 28, 28, 128)  512        ['conv3_block1_2_conv[0][0]']    \n",
            " ization)                                                                                         \n",
            "                                                                                                  \n",
            " conv3_block1_2_relu (Activatio  (None, 28, 28, 128)  0          ['conv3_block1_2_bn[0][0]']      \n",
            " n)                                                                                               \n",
            "                                                                                                  \n",
            " conv3_block1_0_conv (Conv2D)   (None, 28, 28, 512)  131584      ['conv2_block3_out[0][0]']       \n",
            "                                                                                                  \n",
            " conv3_block1_3_conv (Conv2D)   (None, 28, 28, 512)  66048       ['conv3_block1_2_relu[0][0]']    \n",
            "                                                                                                  \n",
            " conv3_block1_0_bn (BatchNormal  (None, 28, 28, 512)  2048       ['conv3_block1_0_conv[0][0]']    \n",
            " ization)                                                                                         \n",
            "                                                                                                  \n",
            " conv3_block1_3_bn (BatchNormal  (None, 28, 28, 512)  2048       ['conv3_block1_3_conv[0][0]']    \n",
            " ization)                                                                                         \n",
            "                                                                                                  \n",
            " conv3_block1_add (Add)         (None, 28, 28, 512)  0           ['conv3_block1_0_bn[0][0]',      \n",
            "                                                                  'conv3_block1_3_bn[0][0]']      \n",
            "                                                                                                  \n",
            " conv3_block1_out (Activation)  (None, 28, 28, 512)  0           ['conv3_block1_add[0][0]']       \n",
            "                                                                                                  \n",
            " conv3_block2_1_conv (Conv2D)   (None, 28, 28, 128)  65664       ['conv3_block1_out[0][0]']       \n",
            "                                                                                                  \n",
            " conv3_block2_1_bn (BatchNormal  (None, 28, 28, 128)  512        ['conv3_block2_1_conv[0][0]']    \n",
            " ization)                                                                                         \n",
            "                                                                                                  \n",
            " conv3_block2_1_relu (Activatio  (None, 28, 28, 128)  0          ['conv3_block2_1_bn[0][0]']      \n",
            " n)                                                                                               \n",
            "                                                                                                  \n",
            " conv3_block2_2_conv (Conv2D)   (None, 28, 28, 128)  147584      ['conv3_block2_1_relu[0][0]']    \n",
            "                                                                                                  \n",
            " conv3_block2_2_bn (BatchNormal  (None, 28, 28, 128)  512        ['conv3_block2_2_conv[0][0]']    \n",
            " ization)                                                                                         \n",
            "                                                                                                  \n",
            " conv3_block2_2_relu (Activatio  (None, 28, 28, 128)  0          ['conv3_block2_2_bn[0][0]']      \n",
            " n)                                                                                               \n",
            "                                                                                                  \n",
            " conv3_block2_3_conv (Conv2D)   (None, 28, 28, 512)  66048       ['conv3_block2_2_relu[0][0]']    \n",
            "                                                                                                  \n",
            " conv3_block2_3_bn (BatchNormal  (None, 28, 28, 512)  2048       ['conv3_block2_3_conv[0][0]']    \n",
            " ization)                                                                                         \n",
            "                                                                                                  \n",
            " conv3_block2_add (Add)         (None, 28, 28, 512)  0           ['conv3_block1_out[0][0]',       \n",
            "                                                                  'conv3_block2_3_bn[0][0]']      \n",
            "                                                                                                  \n",
            " conv3_block2_out (Activation)  (None, 28, 28, 512)  0           ['conv3_block2_add[0][0]']       \n",
            "                                                                                                  \n",
            " conv3_block3_1_conv (Conv2D)   (None, 28, 28, 128)  65664       ['conv3_block2_out[0][0]']       \n",
            "                                                                                                  \n",
            " conv3_block3_1_bn (BatchNormal  (None, 28, 28, 128)  512        ['conv3_block3_1_conv[0][0]']    \n",
            " ization)                                                                                         \n",
            "                                                                                                  \n",
            " conv3_block3_1_relu (Activatio  (None, 28, 28, 128)  0          ['conv3_block3_1_bn[0][0]']      \n",
            " n)                                                                                               \n",
            "                                                                                                  \n",
            " conv3_block3_2_conv (Conv2D)   (None, 28, 28, 128)  147584      ['conv3_block3_1_relu[0][0]']    \n",
            "                                                                                                  \n",
            " conv3_block3_2_bn (BatchNormal  (None, 28, 28, 128)  512        ['conv3_block3_2_conv[0][0]']    \n",
            " ization)                                                                                         \n",
            "                                                                                                  \n",
            " conv3_block3_2_relu (Activatio  (None, 28, 28, 128)  0          ['conv3_block3_2_bn[0][0]']      \n",
            " n)                                                                                               \n",
            "                                                                                                  \n",
            " conv3_block3_3_conv (Conv2D)   (None, 28, 28, 512)  66048       ['conv3_block3_2_relu[0][0]']    \n",
            "                                                                                                  \n",
            " conv3_block3_3_bn (BatchNormal  (None, 28, 28, 512)  2048       ['conv3_block3_3_conv[0][0]']    \n",
            " ization)                                                                                         \n",
            "                                                                                                  \n",
            " conv3_block3_add (Add)         (None, 28, 28, 512)  0           ['conv3_block2_out[0][0]',       \n",
            "                                                                  'conv3_block3_3_bn[0][0]']      \n",
            "                                                                                                  \n",
            " conv3_block3_out (Activation)  (None, 28, 28, 512)  0           ['conv3_block3_add[0][0]']       \n",
            "                                                                                                  \n",
            " conv3_block4_1_conv (Conv2D)   (None, 28, 28, 128)  65664       ['conv3_block3_out[0][0]']       \n",
            "                                                                                                  \n",
            " conv3_block4_1_bn (BatchNormal  (None, 28, 28, 128)  512        ['conv3_block4_1_conv[0][0]']    \n",
            " ization)                                                                                         \n",
            "                                                                                                  \n",
            " conv3_block4_1_relu (Activatio  (None, 28, 28, 128)  0          ['conv3_block4_1_bn[0][0]']      \n",
            " n)                                                                                               \n",
            "                                                                                                  \n",
            " conv3_block4_2_conv (Conv2D)   (None, 28, 28, 128)  147584      ['conv3_block4_1_relu[0][0]']    \n",
            "                                                                                                  \n",
            " conv3_block4_2_bn (BatchNormal  (None, 28, 28, 128)  512        ['conv3_block4_2_conv[0][0]']    \n",
            " ization)                                                                                         \n",
            "                                                                                                  \n",
            " conv3_block4_2_relu (Activatio  (None, 28, 28, 128)  0          ['conv3_block4_2_bn[0][0]']      \n",
            " n)                                                                                               \n",
            "                                                                                                  \n",
            " conv3_block4_3_conv (Conv2D)   (None, 28, 28, 512)  66048       ['conv3_block4_2_relu[0][0]']    \n",
            "                                                                                                  \n",
            " conv3_block4_3_bn (BatchNormal  (None, 28, 28, 512)  2048       ['conv3_block4_3_conv[0][0]']    \n",
            " ization)                                                                                         \n",
            "                                                                                                  \n",
            " conv3_block4_add (Add)         (None, 28, 28, 512)  0           ['conv3_block3_out[0][0]',       \n",
            "                                                                  'conv3_block4_3_bn[0][0]']      \n",
            "                                                                                                  \n",
            " conv3_block4_out (Activation)  (None, 28, 28, 512)  0           ['conv3_block4_add[0][0]']       \n",
            "                                                                                                  \n",
            " conv4_block1_1_conv (Conv2D)   (None, 14, 14, 256)  131328      ['conv3_block4_out[0][0]']       \n",
            "                                                                                                  \n",
            " conv4_block1_1_bn (BatchNormal  (None, 14, 14, 256)  1024       ['conv4_block1_1_conv[0][0]']    \n",
            " ization)                                                                                         \n",
            "                                                                                                  \n",
            " conv4_block1_1_relu (Activatio  (None, 14, 14, 256)  0          ['conv4_block1_1_bn[0][0]']      \n",
            " n)                                                                                               \n",
            "                                                                                                  \n",
            " conv4_block1_2_conv (Conv2D)   (None, 14, 14, 256)  590080      ['conv4_block1_1_relu[0][0]']    \n",
            "                                                                                                  \n",
            " conv4_block1_2_bn (BatchNormal  (None, 14, 14, 256)  1024       ['conv4_block1_2_conv[0][0]']    \n",
            " ization)                                                                                         \n",
            "                                                                                                  \n",
            " conv4_block1_2_relu (Activatio  (None, 14, 14, 256)  0          ['conv4_block1_2_bn[0][0]']      \n",
            " n)                                                                                               \n",
            "                                                                                                  \n",
            " conv4_block1_0_conv (Conv2D)   (None, 14, 14, 1024  525312      ['conv3_block4_out[0][0]']       \n",
            "                                )                                                                 \n",
            "                                                                                                  \n",
            " conv4_block1_3_conv (Conv2D)   (None, 14, 14, 1024  263168      ['conv4_block1_2_relu[0][0]']    \n",
            "                                )                                                                 \n",
            "                                                                                                  \n",
            " conv4_block1_0_bn (BatchNormal  (None, 14, 14, 1024  4096       ['conv4_block1_0_conv[0][0]']    \n",
            " ization)                       )                                                                 \n",
            "                                                                                                  \n",
            " conv4_block1_3_bn (BatchNormal  (None, 14, 14, 1024  4096       ['conv4_block1_3_conv[0][0]']    \n",
            " ization)                       )                                                                 \n",
            "                                                                                                  \n",
            " conv4_block1_add (Add)         (None, 14, 14, 1024  0           ['conv4_block1_0_bn[0][0]',      \n",
            "                                )                                 'conv4_block1_3_bn[0][0]']      \n",
            "                                                                                                  \n",
            " conv4_block1_out (Activation)  (None, 14, 14, 1024  0           ['conv4_block1_add[0][0]']       \n",
            "                                )                                                                 \n",
            "                                                                                                  \n",
            " conv4_block2_1_conv (Conv2D)   (None, 14, 14, 256)  262400      ['conv4_block1_out[0][0]']       \n",
            "                                                                                                  \n",
            " conv4_block2_1_bn (BatchNormal  (None, 14, 14, 256)  1024       ['conv4_block2_1_conv[0][0]']    \n",
            " ization)                                                                                         \n",
            "                                                                                                  \n",
            " conv4_block2_1_relu (Activatio  (None, 14, 14, 256)  0          ['conv4_block2_1_bn[0][0]']      \n",
            " n)                                                                                               \n",
            "                                                                                                  \n",
            " conv4_block2_2_conv (Conv2D)   (None, 14, 14, 256)  590080      ['conv4_block2_1_relu[0][0]']    \n",
            "                                                                                                  \n",
            " conv4_block2_2_bn (BatchNormal  (None, 14, 14, 256)  1024       ['conv4_block2_2_conv[0][0]']    \n",
            " ization)                                                                                         \n",
            "                                                                                                  \n",
            " conv4_block2_2_relu (Activatio  (None, 14, 14, 256)  0          ['conv4_block2_2_bn[0][0]']      \n",
            " n)                                                                                               \n",
            "                                                                                                  \n",
            " conv4_block2_3_conv (Conv2D)   (None, 14, 14, 1024  263168      ['conv4_block2_2_relu[0][0]']    \n",
            "                                )                                                                 \n",
            "                                                                                                  \n",
            " conv4_block2_3_bn (BatchNormal  (None, 14, 14, 1024  4096       ['conv4_block2_3_conv[0][0]']    \n",
            " ization)                       )                                                                 \n",
            "                                                                                                  \n",
            " conv4_block2_add (Add)         (None, 14, 14, 1024  0           ['conv4_block1_out[0][0]',       \n",
            "                                )                                 'conv4_block2_3_bn[0][0]']      \n",
            "                                                                                                  \n",
            " conv4_block2_out (Activation)  (None, 14, 14, 1024  0           ['conv4_block2_add[0][0]']       \n",
            "                                )                                                                 \n",
            "                                                                                                  \n",
            " conv4_block3_1_conv (Conv2D)   (None, 14, 14, 256)  262400      ['conv4_block2_out[0][0]']       \n",
            "                                                                                                  \n",
            " conv4_block3_1_bn (BatchNormal  (None, 14, 14, 256)  1024       ['conv4_block3_1_conv[0][0]']    \n",
            " ization)                                                                                         \n",
            "                                                                                                  \n",
            " conv4_block3_1_relu (Activatio  (None, 14, 14, 256)  0          ['conv4_block3_1_bn[0][0]']      \n",
            " n)                                                                                               \n",
            "                                                                                                  \n",
            " conv4_block3_2_conv (Conv2D)   (None, 14, 14, 256)  590080      ['conv4_block3_1_relu[0][0]']    \n",
            "                                                                                                  \n",
            " conv4_block3_2_bn (BatchNormal  (None, 14, 14, 256)  1024       ['conv4_block3_2_conv[0][0]']    \n",
            " ization)                                                                                         \n",
            "                                                                                                  \n",
            " conv4_block3_2_relu (Activatio  (None, 14, 14, 256)  0          ['conv4_block3_2_bn[0][0]']      \n",
            " n)                                                                                               \n",
            "                                                                                                  \n",
            " conv4_block3_3_conv (Conv2D)   (None, 14, 14, 1024  263168      ['conv4_block3_2_relu[0][0]']    \n",
            "                                )                                                                 \n",
            "                                                                                                  \n",
            " conv4_block3_3_bn (BatchNormal  (None, 14, 14, 1024  4096       ['conv4_block3_3_conv[0][0]']    \n",
            " ization)                       )                                                                 \n",
            "                                                                                                  \n",
            " conv4_block3_add (Add)         (None, 14, 14, 1024  0           ['conv4_block2_out[0][0]',       \n",
            "                                )                                 'conv4_block3_3_bn[0][0]']      \n",
            "                                                                                                  \n",
            " conv4_block3_out (Activation)  (None, 14, 14, 1024  0           ['conv4_block3_add[0][0]']       \n",
            "                                )                                                                 \n",
            "                                                                                                  \n",
            " conv4_block4_1_conv (Conv2D)   (None, 14, 14, 256)  262400      ['conv4_block3_out[0][0]']       \n",
            "                                                                                                  \n",
            " conv4_block4_1_bn (BatchNormal  (None, 14, 14, 256)  1024       ['conv4_block4_1_conv[0][0]']    \n",
            " ization)                                                                                         \n",
            "                                                                                                  \n",
            " conv4_block4_1_relu (Activatio  (None, 14, 14, 256)  0          ['conv4_block4_1_bn[0][0]']      \n",
            " n)                                                                                               \n",
            "                                                                                                  \n",
            " conv4_block4_2_conv (Conv2D)   (None, 14, 14, 256)  590080      ['conv4_block4_1_relu[0][0]']    \n",
            "                                                                                                  \n",
            " conv4_block4_2_bn (BatchNormal  (None, 14, 14, 256)  1024       ['conv4_block4_2_conv[0][0]']    \n",
            " ization)                                                                                         \n",
            "                                                                                                  \n",
            " conv4_block4_2_relu (Activatio  (None, 14, 14, 256)  0          ['conv4_block4_2_bn[0][0]']      \n",
            " n)                                                                                               \n",
            "                                                                                                  \n",
            " conv4_block4_3_conv (Conv2D)   (None, 14, 14, 1024  263168      ['conv4_block4_2_relu[0][0]']    \n",
            "                                )                                                                 \n",
            "                                                                                                  \n",
            " conv4_block4_3_bn (BatchNormal  (None, 14, 14, 1024  4096       ['conv4_block4_3_conv[0][0]']    \n",
            " ization)                       )                                                                 \n",
            "                                                                                                  \n",
            " conv4_block4_add (Add)         (None, 14, 14, 1024  0           ['conv4_block3_out[0][0]',       \n",
            "                                )                                 'conv4_block4_3_bn[0][0]']      \n",
            "                                                                                                  \n",
            " conv4_block4_out (Activation)  (None, 14, 14, 1024  0           ['conv4_block4_add[0][0]']       \n",
            "                                )                                                                 \n",
            "                                                                                                  \n",
            " conv4_block5_1_conv (Conv2D)   (None, 14, 14, 256)  262400      ['conv4_block4_out[0][0]']       \n",
            "                                                                                                  \n",
            " conv4_block5_1_bn (BatchNormal  (None, 14, 14, 256)  1024       ['conv4_block5_1_conv[0][0]']    \n",
            " ization)                                                                                         \n",
            "                                                                                                  \n",
            " conv4_block5_1_relu (Activatio  (None, 14, 14, 256)  0          ['conv4_block5_1_bn[0][0]']      \n",
            " n)                                                                                               \n",
            "                                                                                                  \n",
            " conv4_block5_2_conv (Conv2D)   (None, 14, 14, 256)  590080      ['conv4_block5_1_relu[0][0]']    \n",
            "                                                                                                  \n",
            " conv4_block5_2_bn (BatchNormal  (None, 14, 14, 256)  1024       ['conv4_block5_2_conv[0][0]']    \n",
            " ization)                                                                                         \n",
            "                                                                                                  \n",
            " conv4_block5_2_relu (Activatio  (None, 14, 14, 256)  0          ['conv4_block5_2_bn[0][0]']      \n",
            " n)                                                                                               \n",
            "                                                                                                  \n",
            " conv4_block5_3_conv (Conv2D)   (None, 14, 14, 1024  263168      ['conv4_block5_2_relu[0][0]']    \n",
            "                                )                                                                 \n",
            "                                                                                                  \n",
            " conv4_block5_3_bn (BatchNormal  (None, 14, 14, 1024  4096       ['conv4_block5_3_conv[0][0]']    \n",
            " ization)                       )                                                                 \n",
            "                                                                                                  \n",
            " conv4_block5_add (Add)         (None, 14, 14, 1024  0           ['conv4_block4_out[0][0]',       \n",
            "                                )                                 'conv4_block5_3_bn[0][0]']      \n",
            "                                                                                                  \n",
            " conv4_block5_out (Activation)  (None, 14, 14, 1024  0           ['conv4_block5_add[0][0]']       \n",
            "                                )                                                                 \n",
            "                                                                                                  \n",
            " conv4_block6_1_conv (Conv2D)   (None, 14, 14, 256)  262400      ['conv4_block5_out[0][0]']       \n",
            "                                                                                                  \n",
            " conv4_block6_1_bn (BatchNormal  (None, 14, 14, 256)  1024       ['conv4_block6_1_conv[0][0]']    \n",
            " ization)                                                                                         \n",
            "                                                                                                  \n",
            " conv4_block6_1_relu (Activatio  (None, 14, 14, 256)  0          ['conv4_block6_1_bn[0][0]']      \n",
            " n)                                                                                               \n",
            "                                                                                                  \n",
            " conv4_block6_2_conv (Conv2D)   (None, 14, 14, 256)  590080      ['conv4_block6_1_relu[0][0]']    \n",
            "                                                                                                  \n",
            " conv4_block6_2_bn (BatchNormal  (None, 14, 14, 256)  1024       ['conv4_block6_2_conv[0][0]']    \n",
            " ization)                                                                                         \n",
            "                                                                                                  \n",
            " conv4_block6_2_relu (Activatio  (None, 14, 14, 256)  0          ['conv4_block6_2_bn[0][0]']      \n",
            " n)                                                                                               \n",
            "                                                                                                  \n",
            " conv4_block6_3_conv (Conv2D)   (None, 14, 14, 1024  263168      ['conv4_block6_2_relu[0][0]']    \n",
            "                                )                                                                 \n",
            "                                                                                                  \n",
            " conv4_block6_3_bn (BatchNormal  (None, 14, 14, 1024  4096       ['conv4_block6_3_conv[0][0]']    \n",
            " ization)                       )                                                                 \n",
            "                                                                                                  \n",
            " conv4_block6_add (Add)         (None, 14, 14, 1024  0           ['conv4_block5_out[0][0]',       \n",
            "                                )                                 'conv4_block6_3_bn[0][0]']      \n",
            "                                                                                                  \n",
            " conv4_block6_out (Activation)  (None, 14, 14, 1024  0           ['conv4_block6_add[0][0]']       \n",
            "                                )                                                                 \n",
            "                                                                                                  \n",
            " conv5_block1_1_conv (Conv2D)   (None, 7, 7, 512)    524800      ['conv4_block6_out[0][0]']       \n",
            "                                                                                                  \n",
            " conv5_block1_1_bn (BatchNormal  (None, 7, 7, 512)   2048        ['conv5_block1_1_conv[0][0]']    \n",
            " ization)                                                                                         \n",
            "                                                                                                  \n",
            " conv5_block1_1_relu (Activatio  (None, 7, 7, 512)   0           ['conv5_block1_1_bn[0][0]']      \n",
            " n)                                                                                               \n",
            "                                                                                                  \n",
            " conv5_block1_2_conv (Conv2D)   (None, 7, 7, 512)    2359808     ['conv5_block1_1_relu[0][0]']    \n",
            "                                                                                                  \n",
            " conv5_block1_2_bn (BatchNormal  (None, 7, 7, 512)   2048        ['conv5_block1_2_conv[0][0]']    \n",
            " ization)                                                                                         \n",
            "                                                                                                  \n",
            " conv5_block1_2_relu (Activatio  (None, 7, 7, 512)   0           ['conv5_block1_2_bn[0][0]']      \n",
            " n)                                                                                               \n",
            "                                                                                                  \n",
            " conv5_block1_0_conv (Conv2D)   (None, 7, 7, 2048)   2099200     ['conv4_block6_out[0][0]']       \n",
            "                                                                                                  \n",
            " conv5_block1_3_conv (Conv2D)   (None, 7, 7, 2048)   1050624     ['conv5_block1_2_relu[0][0]']    \n",
            "                                                                                                  \n",
            " conv5_block1_0_bn (BatchNormal  (None, 7, 7, 2048)  8192        ['conv5_block1_0_conv[0][0]']    \n",
            " ization)                                                                                         \n",
            "                                                                                                  \n",
            " conv5_block1_3_bn (BatchNormal  (None, 7, 7, 2048)  8192        ['conv5_block1_3_conv[0][0]']    \n",
            " ization)                                                                                         \n",
            "                                                                                                  \n",
            " conv5_block1_add (Add)         (None, 7, 7, 2048)   0           ['conv5_block1_0_bn[0][0]',      \n",
            "                                                                  'conv5_block1_3_bn[0][0]']      \n",
            "                                                                                                  \n",
            " conv5_block1_out (Activation)  (None, 7, 7, 2048)   0           ['conv5_block1_add[0][0]']       \n",
            "                                                                                                  \n",
            " conv5_block2_1_conv (Conv2D)   (None, 7, 7, 512)    1049088     ['conv5_block1_out[0][0]']       \n",
            "                                                                                                  \n",
            " conv5_block2_1_bn (BatchNormal  (None, 7, 7, 512)   2048        ['conv5_block2_1_conv[0][0]']    \n",
            " ization)                                                                                         \n",
            "                                                                                                  \n",
            " conv5_block2_1_relu (Activatio  (None, 7, 7, 512)   0           ['conv5_block2_1_bn[0][0]']      \n",
            " n)                                                                                               \n",
            "                                                                                                  \n",
            " conv5_block2_2_conv (Conv2D)   (None, 7, 7, 512)    2359808     ['conv5_block2_1_relu[0][0]']    \n",
            "                                                                                                  \n",
            " conv5_block2_2_bn (BatchNormal  (None, 7, 7, 512)   2048        ['conv5_block2_2_conv[0][0]']    \n",
            " ization)                                                                                         \n",
            "                                                                                                  \n",
            " conv5_block2_2_relu (Activatio  (None, 7, 7, 512)   0           ['conv5_block2_2_bn[0][0]']      \n",
            " n)                                                                                               \n",
            "                                                                                                  \n",
            " conv5_block2_3_conv (Conv2D)   (None, 7, 7, 2048)   1050624     ['conv5_block2_2_relu[0][0]']    \n",
            "                                                                                                  \n",
            " conv5_block2_3_bn (BatchNormal  (None, 7, 7, 2048)  8192        ['conv5_block2_3_conv[0][0]']    \n",
            " ization)                                                                                         \n",
            "                                                                                                  \n",
            " conv5_block2_add (Add)         (None, 7, 7, 2048)   0           ['conv5_block1_out[0][0]',       \n",
            "                                                                  'conv5_block2_3_bn[0][0]']      \n",
            "                                                                                                  \n",
            " conv5_block2_out (Activation)  (None, 7, 7, 2048)   0           ['conv5_block2_add[0][0]']       \n",
            "                                                                                                  \n",
            " conv5_block3_1_conv (Conv2D)   (None, 7, 7, 512)    1049088     ['conv5_block2_out[0][0]']       \n",
            "                                                                                                  \n",
            " conv5_block3_1_bn (BatchNormal  (None, 7, 7, 512)   2048        ['conv5_block3_1_conv[0][0]']    \n",
            " ization)                                                                                         \n",
            "                                                                                                  \n",
            " conv5_block3_1_relu (Activatio  (None, 7, 7, 512)   0           ['conv5_block3_1_bn[0][0]']      \n",
            " n)                                                                                               \n",
            "                                                                                                  \n",
            " conv5_block3_2_conv (Conv2D)   (None, 7, 7, 512)    2359808     ['conv5_block3_1_relu[0][0]']    \n",
            "                                                                                                  \n",
            " conv5_block3_2_bn (BatchNormal  (None, 7, 7, 512)   2048        ['conv5_block3_2_conv[0][0]']    \n",
            " ization)                                                                                         \n",
            "                                                                                                  \n",
            " conv5_block3_2_relu (Activatio  (None, 7, 7, 512)   0           ['conv5_block3_2_bn[0][0]']      \n",
            " n)                                                                                               \n",
            "                                                                                                  \n",
            " conv5_block3_3_conv (Conv2D)   (None, 7, 7, 2048)   1050624     ['conv5_block3_2_relu[0][0]']    \n",
            "                                                                                                  \n",
            " conv5_block3_3_bn (BatchNormal  (None, 7, 7, 2048)  8192        ['conv5_block3_3_conv[0][0]']    \n",
            " ization)                                                                                         \n",
            "                                                                                                  \n",
            " conv5_block3_add (Add)         (None, 7, 7, 2048)   0           ['conv5_block2_out[0][0]',       \n",
            "                                                                  'conv5_block3_3_bn[0][0]']      \n",
            "                                                                                                  \n",
            " conv5_block3_out (Activation)  (None, 7, 7, 2048)   0           ['conv5_block3_add[0][0]']       \n",
            "                                                                                                  \n",
            "==================================================================================================\n",
            "Total params: 23,587,712\n",
            "Trainable params: 23,534,592\n",
            "Non-trainable params: 53,120\n",
            "__________________________________________________________________________________________________\n"
          ]
        }
      ]
    },
    {
      "cell_type": "code",
      "source": [
        "print(len(resnet50_model.layers))"
      ],
      "metadata": {
        "colab": {
          "base_uri": "https://localhost:8080/"
        },
        "id": "bJpUJjqwW_Ys",
        "outputId": "e22f6b6f-a3eb-465e-e265-ce585683265b"
      },
      "execution_count": null,
      "outputs": [
        {
          "output_type": "stream",
          "name": "stdout",
          "text": [
            "177\n"
          ]
        }
      ]
    },
    {
      "cell_type": "markdown",
      "source": [
        "###Train model Grayscale "
      ],
      "metadata": {
        "id": "ySZhiqSfLWre"
      }
    },
    {
      "cell_type": "code",
      "source": [
        "early_stop = callbacks.EarlyStopping(monitor='val_loss', patience=2) \n",
        "mcp_save = ModelCheckpoint('history_resnet50_model_gray_earlystop.h5', save_best_only=True, monitor='val_loss')\n",
        "\n",
        "history_resnet50_model_gray_earlystop = resnet50_model.fit(\n",
        "                      training_set_gray,\n",
        "                      batch_size=32,\n",
        "                      epochs=20,\n",
        "                      validation_data = (validation_set_gray),\n",
        "                      callbacks=[early_stop,mcp_save]\n",
        "                      )"
      ],
      "metadata": {
        "colab": {
          "base_uri": "https://localhost:8080/"
        },
        "id": "KF6JBSZ_XTns",
        "outputId": "862fe9a3-f16e-4e51-e146-cfa89c2ed5c2"
      },
      "execution_count": null,
      "outputs": [
        {
          "output_type": "stream",
          "name": "stdout",
          "text": [
            "Epoch 1/20\n",
            "15/15 [==============================] - 461s 30s/step - loss: 4.8186 - accuracy: 0.4522 - val_loss: 1.1959 - val_accuracy: 0.6043\n",
            "Epoch 2/20\n",
            "15/15 [==============================] - 23s 2s/step - loss: 1.4212 - accuracy: 0.5674 - val_loss: 1.4461 - val_accuracy: 0.5043\n",
            "Epoch 3/20\n",
            "15/15 [==============================] - 23s 2s/step - loss: 1.1032 - accuracy: 0.6065 - val_loss: 1.2604 - val_accuracy: 0.5413\n"
          ]
        }
      ]
    },
    {
      "cell_type": "markdown",
      "source": [
        "###Evaluation"
      ],
      "metadata": {
        "id": "dkwpNtdeLDq7"
      }
    },
    {
      "cell_type": "code",
      "source": [
        "plt.plot(history_resnet50_model_gray_earlystop.history['loss'], label = 'train_loss')\n",
        "plt.plot(history_resnet50_model_gray_earlystop.history['val_loss'], label ='val loss')\n",
        "plt.legend()\n",
        "plt.show()"
      ],
      "metadata": {
        "colab": {
          "base_uri": "https://localhost:8080/",
          "height": 265
        },
        "id": "rNfbN_5H3_VM",
        "outputId": "f1a7b317-5277-43b1-b032-5b73e255ba03"
      },
      "execution_count": null,
      "outputs": [
        {
          "output_type": "display_data",
          "data": {
            "text/plain": [
              "<Figure size 432x288 with 1 Axes>"
            ],
            "image/png": "[encoded data removed]"
          },
          "metadata": {
            "needs_background": "light"
          }
        }
      ]
    },
    {
      "cell_type": "code",
      "source": [
        "plt.plot(history_resnet50_model_gray_earlystop.history['accuracy'], label = 'train_acc')\n",
        "plt.plot(history_resnet50_model_gray_earlystop.history['val_accuracy'], label ='val acc')\n",
        "plt.legend()\n",
        "plt.show()"
      ],
      "metadata": {
        "colab": {
          "base_uri": "https://localhost:8080/",
          "height": 267
        },
        "id": "zPi-wW6t4pNJ",
        "outputId": "de42b213-ad77-4755-c682-4dfdd2a012dd"
      },
      "execution_count": null,
      "outputs": [
        {
          "output_type": "display_data",
          "data": {
            "text/plain": [
              "<Figure size 432x288 with 1 Axes>"
            ],
            "image/png": "[encoded data removed]"
          },
          "metadata": {
            "needs_background": "light"
          }
        }
      ]
    },
    {
      "cell_type": "code",
      "source": [
        "model_gray_earlystop = load_model('history_resnet50_model_gray_earlystop.h5')\n",
        "score1 = model_gray_earlystop.evaluate(training_set_gray)\n",
        "score1"
      ],
      "metadata": {
        "colab": {
          "base_uri": "https://localhost:8080/"
        },
        "id": "lKd-8LqObWQm",
        "outputId": "11986d4f-e2d8-4ce7-84d8-6dfc06d2151a"
      },
      "execution_count": null,
      "outputs": [
        {
          "output_type": "stream",
          "name": "stdout",
          "text": [
            "15/15 [==============================] - 12s 698ms/step - loss: 0.6891 - accuracy: 0.7152\n"
          ]
        },
        {
          "output_type": "execute_result",
          "data": {
            "text/plain": [
              "[0.6890811920166016, 0.7152174115180969]"
            ]
          },
          "metadata": {},
          "execution_count": 15
        }
      ]
    },
    {
      "cell_type": "code",
      "source": [
        "score2 = model_gray_earlystop.evaluate(test_set_gray)\n",
        "score2"
      ],
      "metadata": {
        "colab": {
          "base_uri": "https://localhost:8080/"
        },
        "id": "FQHUE8CjbWXc",
        "outputId": "7b6a763e-966d-43c7-d798-824381f15bc3"
      },
      "execution_count": null,
      "outputs": [
        {
          "output_type": "stream",
          "name": "stdout",
          "text": [
            "2/2 [==============================] - 13s 12s/step - loss: 1.0169 - accuracy: 0.5778\n"
          ]
        },
        {
          "output_type": "execute_result",
          "data": {
            "text/plain": [
              "[1.0168765783309937, 0.5777778029441833]"
            ]
          },
          "metadata": {},
          "execution_count": 16
        }
      ]
    },
    {
      "cell_type": "markdown",
      "source": [
        "#------------------------------GHE----------------------------------------"
      ],
      "metadata": {
        "id": "ywPgvduZdC62"
      }
    },
    {
      "cell_type": "markdown",
      "source": [
        "###GHE"
      ],
      "metadata": {
        "id": "9C5IjS4MY3YZ"
      }
    },
    {
      "cell_type": "code",
      "source": [
        "test_Path_GHE = '/content/drive/MyDrive/Digital Image Project/Old_Data_Set/GHE/test_GHE'\n",
        "train_Path_GHE =  '/content/drive/MyDrive/Digital Image Project/Old_Data_Set/GHE/train_GHE'"
      ],
      "metadata": {
        "id": "6s2g82_dWtKW"
      },
      "execution_count": null,
      "outputs": []
    },
    {
      "cell_type": "code",
      "source": [
        "training_set_GHE = train_datagen.flow_from_directory(\n",
        "    train_Path_GHE,\n",
        "    target_size = IMAGE_SIZE,\n",
        "    batch_size = 32,\n",
        "    class_mode = 'categorical')\n",
        "\n",
        "\n",
        "\n",
        "validation_set_GHE = validation_datagen.flow_from_directory(\n",
        "    train_Path_GHE,\n",
        "    target_size = IMAGE_SIZE,\n",
        "    batch_size = 32,\n",
        "    class_mode = 'categorical')\n",
        "\n",
        "\n",
        "\n",
        "test_set_GHE = test_datagen.flow_from_directory(\n",
        "    test_Path_GHE,\n",
        "    target_size = IMAGE_SIZE,\n",
        "    batch_size = 32,\n",
        "    class_mode = 'categorical'\n",
        ")"
      ],
      "metadata": {
        "colab": {
          "base_uri": "https://localhost:8080/"
        },
        "id": "H8NHQOWOIkAj",
        "outputId": "5f5b9c4b-2da7-4068-9422-7bdd20c84ad1"
      },
      "execution_count": null,
      "outputs": [
        {
          "output_type": "stream",
          "name": "stdout",
          "text": [
            "Found 449 images belonging to 3 classes.\n",
            "Found 449 images belonging to 3 classes.\n",
            "Found 45 images belonging to 3 classes.\n"
          ]
        }
      ]
    },
    {
      "cell_type": "markdown",
      "source": [
        "###Model GHE"
      ],
      "metadata": {
        "id": "wnyZepOpMClC"
      }
    },
    {
      "cell_type": "code",
      "source": [
        "for layer in resnet.layers:\n",
        "    layer.trainable = False\n",
        "import glob\n",
        "folders_GHE = glob.glob(train_Path_GHE + '/*')\n",
        "folders_GHE"
      ],
      "metadata": {
        "colab": {
          "base_uri": "https://localhost:8080/"
        },
        "id": "8X65S3rRM6V8",
        "outputId": "ae113de6-bc06-450c-d6f9-6fe8c5555fae"
      },
      "execution_count": null,
      "outputs": [
        {
          "output_type": "execute_result",
          "data": {
            "text/plain": [
              "['/content/drive/MyDrive/Digital Image Project/Old_Data_Set/GHE/train_GHE/Cemento_train_GHE',\n",
              " '/content/drive/MyDrive/Digital Image Project/Old_Data_Set/GHE/train_GHE/Fibrous_train_GHE',\n",
              " '/content/drive/MyDrive/Digital Image Project/Old_Data_Set/GHE/train_GHE/Ossifying_train_GHE']"
            ]
          },
          "metadata": {},
          "execution_count": 17
        }
      ]
    },
    {
      "cell_type": "code",
      "source": [
        "x = Flatten() (resnet.output)\n",
        "prediction = Dense(len(folders_GHE), activation = 'softmax')(x)\n",
        "resnet50_model = Model(inputs = resnet.input, outputs = prediction)\n",
        "resnet50_model.compile (\n",
        "    loss = 'categorical_crossentropy',\n",
        "    optimizer = 'adam',\n",
        "    metrics = ['accuracy']\n",
        ")"
      ],
      "metadata": {
        "id": "RkjDLz1GNyhn"
      },
      "execution_count": null,
      "outputs": []
    },
    {
      "cell_type": "markdown",
      "source": [
        "###Train model GHE"
      ],
      "metadata": {
        "id": "GQEGSxlKMJkA"
      }
    },
    {
      "cell_type": "code",
      "source": [
        "early_stop = callbacks.EarlyStopping(monitor='val_loss', patience=2) \n",
        "mcp_save = ModelCheckpoint('history_resnet50_model_GHE_earlystop.h5', save_best_only=True, monitor='val_loss')\n",
        "\n",
        "history_resnet50_model_GHE_earlystop = resnet50_model.fit(\n",
        "                      training_set_GHE,\n",
        "                      batch_size=32,\n",
        "                      epochs=20,\n",
        "                      validation_data = (validation_set_GHE),\n",
        "                      callbacks=[early_stop,mcp_save]\n",
        "                      )"
      ],
      "metadata": {
        "colab": {
          "base_uri": "https://localhost:8080/"
        },
        "id": "Jqu1aV6zN3fz",
        "outputId": "f3f467da-ed26-4088-8a89-11afe7e33d41"
      },
      "execution_count": null,
      "outputs": [
        {
          "output_type": "stream",
          "name": "stdout",
          "text": [
            "Epoch 1/20\n",
            "15/15 [==============================] - 123s 8s/step - loss: 5.3736 - accuracy: 0.4254 - val_loss: 5.1782 - val_accuracy: 0.5857\n",
            "Epoch 2/20\n",
            "15/15 [==============================] - 22s 2s/step - loss: 2.7022 - accuracy: 0.5145 - val_loss: 0.8286 - val_accuracy: 0.6927\n",
            "Epoch 3/20\n",
            "15/15 [==============================] - 21s 2s/step - loss: 1.3127 - accuracy: 0.6036 - val_loss: 1.0455 - val_accuracy: 0.6370\n",
            "Epoch 4/20\n",
            "15/15 [==============================] - 22s 2s/step - loss: 0.9314 - accuracy: 0.6437 - val_loss: 0.7811 - val_accuracy: 0.6459\n",
            "Epoch 5/20\n",
            "15/15 [==============================] - 21s 1s/step - loss: 0.9580 - accuracy: 0.6125 - val_loss: 0.8912 - val_accuracy: 0.5813\n",
            "Epoch 6/20\n",
            "15/15 [==============================] - 22s 2s/step - loss: 0.7041 - accuracy: 0.7194 - val_loss: 0.4573 - val_accuracy: 0.8218\n",
            "Epoch 7/20\n",
            "15/15 [==============================] - 23s 2s/step - loss: 0.5660 - accuracy: 0.7906 - val_loss: 0.4566 - val_accuracy: 0.8196\n",
            "Epoch 8/20\n",
            "15/15 [==============================] - 22s 2s/step - loss: 0.4886 - accuracy: 0.7973 - val_loss: 0.4053 - val_accuracy: 0.8441\n",
            "Epoch 9/20\n",
            "15/15 [==============================] - 21s 1s/step - loss: 0.8596 - accuracy: 0.7506 - val_loss: 1.8043 - val_accuracy: 0.6548\n",
            "Epoch 10/20\n",
            "15/15 [==============================] - 21s 1s/step - loss: 1.3641 - accuracy: 0.5947 - val_loss: 1.8178 - val_accuracy: 0.6325\n"
          ]
        }
      ]
    },
    {
      "cell_type": "markdown",
      "source": [
        "###Evaluation"
      ],
      "metadata": {
        "id": "1jWsSZaMMPIb"
      }
    },
    {
      "cell_type": "code",
      "source": [
        "plt.plot(history_resnet50_model_GHE_earlystop.history['loss'], label = 'train_loss')\n",
        "plt.plot(history_resnet50_model_GHE_earlystop.history['val_loss'], label ='val loss')\n",
        "plt.legend()\n",
        "plt.show()"
      ],
      "metadata": {
        "colab": {
          "base_uri": "https://localhost:8080/"
        },
        "id": "fhr20tx0QeCO",
        "outputId": "926f948a-3aad-448e-cacd-ac84e3a2f0ba"
      },
      "execution_count": null,
      "outputs": [
        {
          "output_type": "display_data",
          "data": {
            "text/plain": [
              "<Figure size 432x288 with 1 Axes>"
            ],
            "image/png": "[encoded data removed]"
          },
          "metadata": {
            "needs_background": "light"
          }
        }
      ]
    },
    {
      "cell_type": "code",
      "source": [
        "plt.plot(history_resnet50_model_GHE_earlystop.history['accuracy'], label = 'train_acc')\n",
        "plt.plot(history_resnet50_model_GHE_earlystop.history['val_accuracy'], label ='val acc')\n",
        "plt.legend()\n",
        "plt.show()"
      ],
      "metadata": {
        "colab": {
          "base_uri": "https://localhost:8080/"
        },
        "id": "rV7-xxkBQtiy",
        "outputId": "2354288c-e941-4372-8499-af00e5d18285"
      },
      "execution_count": null,
      "outputs": [
        {
          "output_type": "display_data",
          "data": {
            "text/plain": [
              "<Figure size 432x288 with 1 Axes>"
            ],
            "image/png": "[encoded data removed]"
          },
          "metadata": {
            "needs_background": "light"
          }
        }
      ]
    },
    {
      "cell_type": "code",
      "source": [
        "model_GHE_earlystop = load_model('history_resnet50_model_GHE_earlystop.h5')\n",
        "score3 = model_GHE_earlystop.evaluate(training_set_GHE)\n",
        "score3"
      ],
      "metadata": {
        "colab": {
          "base_uri": "https://localhost:8080/"
        },
        "id": "jSP-to56ikCA",
        "outputId": "0f02ebaf-73eb-451b-92c0-98d4fa915193"
      },
      "execution_count": null,
      "outputs": [
        {
          "output_type": "stream",
          "name": "stdout",
          "text": [
            "15/15 [==============================] - 12s 700ms/step - loss: 0.4137 - accuracy: 0.8441\n"
          ]
        },
        {
          "output_type": "execute_result",
          "data": {
            "text/plain": [
              "[0.41369983553886414, 0.8440979719161987]"
            ]
          },
          "metadata": {},
          "execution_count": 22
        }
      ]
    },
    {
      "cell_type": "code",
      "source": [
        "score4 =  model_GHE_earlystop.evaluate(test_set_GHE)\n",
        "score4"
      ],
      "metadata": {
        "colab": {
          "base_uri": "https://localhost:8080/"
        },
        "id": "95KvpFsciwz4",
        "outputId": "16625d56-6484-416b-9138-d5d4912474a3"
      },
      "execution_count": null,
      "outputs": [
        {
          "output_type": "stream",
          "name": "stdout",
          "text": [
            "2/2 [==============================] - 8s 7s/step - loss: 0.8979 - accuracy: 0.6889\n"
          ]
        },
        {
          "output_type": "execute_result",
          "data": {
            "text/plain": [
              "[0.8978961706161499, 0.6888889074325562]"
            ]
          },
          "metadata": {},
          "execution_count": 23
        }
      ]
    },
    {
      "cell_type": "markdown",
      "source": [
        "#---------------------------------CLAHE------------------------------------------------"
      ],
      "metadata": {
        "id": "44vjSejDchyY"
      }
    },
    {
      "cell_type": "markdown",
      "source": [
        "###CLAHE"
      ],
      "metadata": {
        "id": "h99vveZQMaK_"
      }
    },
    {
      "cell_type": "code",
      "source": [
        "test_Path_CLAHE = '/content/drive/MyDrive/Digital Image Project/Old_Data_Set/CLAHE/test_CLAHE'\n",
        "train_Path_CLAHE = '/content/drive/MyDrive/Digital Image Project/Old_Data_Set/CLAHE/train_CLAHE'"
      ],
      "metadata": {
        "id": "px_cFDbSXNZL"
      },
      "execution_count": null,
      "outputs": []
    },
    {
      "cell_type": "code",
      "source": [
        "training_set_CLAHE = train_datagen.flow_from_directory(\n",
        "    train_Path_CLAHE,\n",
        "    target_size = IMAGE_SIZE,\n",
        "    batch_size = 32,\n",
        "    class_mode = 'categorical')\n",
        "\n",
        "\n",
        "\n",
        "validation_set_CLAHE = validation_datagen.flow_from_directory(\n",
        "    train_Path_CLAHE,\n",
        "    target_size = IMAGE_SIZE,\n",
        "    batch_size = 32,\n",
        "    class_mode = 'categorical')\n",
        "\n",
        "\n",
        "\n",
        "test_set_CLAHE = test_datagen.flow_from_directory(\n",
        "    test_Path_CLAHE,\n",
        "    target_size = IMAGE_SIZE,\n",
        "    batch_size = 32,\n",
        "    class_mode = 'categorical'\n",
        ")"
      ],
      "metadata": {
        "colab": {
          "base_uri": "https://localhost:8080/"
        },
        "id": "02xVEVSrJVjG",
        "outputId": "82993ea4-dd6a-4e5b-ed60-d9ddc09a5f2b"
      },
      "execution_count": null,
      "outputs": [
        {
          "output_type": "stream",
          "name": "stdout",
          "text": [
            "Found 460 images belonging to 3 classes.\n",
            "Found 460 images belonging to 3 classes.\n",
            "Found 45 images belonging to 3 classes.\n"
          ]
        }
      ]
    },
    {
      "cell_type": "markdown",
      "source": [
        "###Model CLAHE"
      ],
      "metadata": {
        "id": "qSIEQ5aXMd2j"
      }
    },
    {
      "cell_type": "code",
      "source": [
        "for layer in resnet.layers:\n",
        "    layer.trainable = False\n",
        "import glob\n",
        "folders_CLAHE = glob.glob(train_Path_CLAHE + '/*')\n",
        "folders_CLAHE"
      ],
      "metadata": {
        "colab": {
          "base_uri": "https://localhost:8080/"
        },
        "id": "kuJrFwCqOaqm",
        "outputId": "68cfcb81-428a-4f7c-b5ef-095bb802656f"
      },
      "execution_count": null,
      "outputs": [
        {
          "output_type": "execute_result",
          "data": {
            "text/plain": [
              "['/content/drive/MyDrive/Digital Image Project/Old_Data_Set/CLAHE/train_CLAHE/Ossifying_train_CLAHE',\n",
              " '/content/drive/MyDrive/Digital Image Project/Old_Data_Set/CLAHE/train_CLAHE/Fibrous_train_CLAHE',\n",
              " '/content/drive/MyDrive/Digital Image Project/Old_Data_Set/CLAHE/train_CLAHE/Cemento_train_CLAHE']"
            ]
          },
          "metadata": {},
          "execution_count": 26
        }
      ]
    },
    {
      "cell_type": "code",
      "source": [
        "x = Flatten() (resnet.output)\n",
        "prediction = Dense(len(folders_CLAHE), activation = 'softmax')(x)\n",
        "resnet50_model = Model(inputs = resnet.input, outputs = prediction)\n",
        "resnet50_model.compile (\n",
        "    loss = 'categorical_crossentropy',\n",
        "    optimizer = 'adam',\n",
        "    metrics = ['accuracy']\n",
        ")"
      ],
      "metadata": {
        "id": "kOXcBQdZOhg-"
      },
      "execution_count": null,
      "outputs": []
    },
    {
      "cell_type": "markdown",
      "source": [
        "###Train model CLAHE"
      ],
      "metadata": {
        "id": "5R0SYv0aMijC"
      }
    },
    {
      "cell_type": "code",
      "source": [
        "early_stop = callbacks.EarlyStopping(monitor='val_loss', patience=2) \n",
        "mcp_save = ModelCheckpoint('history_resnet50_model_CLAHE_earlystop.h5', save_best_only=True, monitor='val_loss')\n",
        "\n",
        "history_resnet50_model_CLAHE_earlystop = resnet50_model.fit(\n",
        "                      training_set_CLAHE,\n",
        "                      batch_size=32,\n",
        "                      epochs=20,\n",
        "                      validation_data = (validation_set_CLAHE),\n",
        "                      callbacks=[early_stop,mcp_save]\n",
        "                      )"
      ],
      "metadata": {
        "colab": {
          "base_uri": "https://localhost:8080/"
        },
        "id": "RsUsTr64OjgY",
        "outputId": "964c7350-bcad-4a22-8336-b56adffc1a81"
      },
      "execution_count": null,
      "outputs": [
        {
          "output_type": "stream",
          "name": "stdout",
          "text": [
            "Epoch 1/20\n",
            "15/15 [==============================] - 132s 9s/step - loss: 3.4975 - accuracy: 0.4435 - val_loss: 1.3099 - val_accuracy: 0.6022\n",
            "Epoch 2/20\n",
            "15/15 [==============================] - 27s 2s/step - loss: 1.3310 - accuracy: 0.5565 - val_loss: 0.7454 - val_accuracy: 0.6565\n",
            "Epoch 3/20\n",
            "15/15 [==============================] - 26s 2s/step - loss: 0.5910 - accuracy: 0.7739 - val_loss: 0.5146 - val_accuracy: 0.8087\n",
            "Epoch 4/20\n",
            "15/15 [==============================] - 26s 2s/step - loss: 0.5149 - accuracy: 0.8000 - val_loss: 0.4753 - val_accuracy: 0.8348\n",
            "Epoch 5/20\n",
            "15/15 [==============================] - 26s 2s/step - loss: 0.4773 - accuracy: 0.8261 - val_loss: 0.4562 - val_accuracy: 0.8261\n",
            "Epoch 6/20\n",
            "15/15 [==============================] - 25s 2s/step - loss: 0.4832 - accuracy: 0.8283 - val_loss: 0.6539 - val_accuracy: 0.7283\n",
            "Epoch 7/20\n",
            "15/15 [==============================] - 26s 2s/step - loss: 0.4804 - accuracy: 0.8304 - val_loss: 0.3909 - val_accuracy: 0.8522\n",
            "Epoch 8/20\n",
            "15/15 [==============================] - 27s 2s/step - loss: 0.4182 - accuracy: 0.8370 - val_loss: 0.3857 - val_accuracy: 0.8652\n",
            "Epoch 9/20\n",
            "15/15 [==============================] - 26s 2s/step - loss: 0.4961 - accuracy: 0.8261 - val_loss: 0.5174 - val_accuracy: 0.7891\n",
            "Epoch 10/20\n",
            "15/15 [==============================] - 26s 2s/step - loss: 0.4482 - accuracy: 0.8087 - val_loss: 0.3234 - val_accuracy: 0.8848\n",
            "Epoch 11/20\n",
            "15/15 [==============================] - 25s 2s/step - loss: 0.4579 - accuracy: 0.8196 - val_loss: 0.5220 - val_accuracy: 0.8043\n",
            "Epoch 12/20\n",
            "15/15 [==============================] - 25s 2s/step - loss: 0.3970 - accuracy: 0.8522 - val_loss: 0.3367 - val_accuracy: 0.8739\n"
          ]
        }
      ]
    },
    {
      "cell_type": "markdown",
      "source": [
        "###Evaluation"
      ],
      "metadata": {
        "id": "jJhY9W0eMmIX"
      }
    },
    {
      "cell_type": "code",
      "source": [
        "plt.plot(history_resnet50_model_CLAHE_earlystop.history['loss'], label = 'train_loss')\n",
        "plt.plot(history_resnet50_model_CLAHE_earlystop.history['val_loss'], label ='val loss')\n",
        "plt.legend()\n",
        "plt.show()"
      ],
      "metadata": {
        "colab": {
          "base_uri": "https://localhost:8080/"
        },
        "id": "FVIv-kqASKf8",
        "outputId": "87da2963-a9d8-4625-fd74-a4a714f6ccbb"
      },
      "execution_count": null,
      "outputs": [
        {
          "output_type": "display_data",
          "data": {
            "text/plain": [
              "<Figure size 432x288 with 1 Axes>"
            ],
            "image/png": "[encoded data removed]"
          },
          "metadata": {
            "needs_background": "light"
          }
        }
      ]
    },
    {
      "cell_type": "code",
      "source": [
        "plt.plot(history_resnet50_model_CLAHE_earlystop.history['accuracy'], label = 'train_acc')\n",
        "plt.plot(history_resnet50_model_CLAHE_earlystop.history['val_accuracy'], label ='val acc')\n",
        "plt.legend()\n",
        "plt.show()"
      ],
      "metadata": {
        "colab": {
          "base_uri": "https://localhost:8080/"
        },
        "id": "V3BIOE_GSP5O",
        "outputId": "2f54dd9f-65ea-469b-ea4d-ecec89218a21"
      },
      "execution_count": null,
      "outputs": [
        {
          "output_type": "display_data",
          "data": {
            "text/plain": [
              "<Figure size 432x288 with 1 Axes>"
            ],
            "image/png": "[encoded data removed]"
          },
          "metadata": {
            "needs_background": "light"
          }
        }
      ]
    },
    {
      "cell_type": "code",
      "source": [
        "model_CLAHE_earlystop = load_model('history_resnet50_model_CLAHE_earlystop.h5')\n",
        "score5 = model_CLAHE_earlystop.evaluate(training_set_CLAHE)\n",
        "score5"
      ],
      "metadata": {
        "colab": {
          "base_uri": "https://localhost:8080/"
        },
        "id": "FMfqIsV-jfvS",
        "outputId": "2b1d3679-d928-44c3-f6d9-d409ed8edc0b"
      },
      "execution_count": null,
      "outputs": [
        {
          "output_type": "stream",
          "name": "stdout",
          "text": [
            "15/15 [==============================] - 14s 835ms/step - loss: 0.3523 - accuracy: 0.8674\n"
          ]
        },
        {
          "output_type": "execute_result",
          "data": {
            "text/plain": [
              "[0.3523249328136444, 0.8673912882804871]"
            ]
          },
          "metadata": {},
          "execution_count": 31
        }
      ]
    },
    {
      "cell_type": "code",
      "source": [
        "score6 = model_CLAHE_earlystop.evaluate(test_set_CLAHE)\n",
        "score6"
      ],
      "metadata": {
        "colab": {
          "base_uri": "https://localhost:8080/"
        },
        "id": "Ery5NeFqjn5i",
        "outputId": "eac272df-9477-4159-aeee-e68c05f89679"
      },
      "execution_count": null,
      "outputs": [
        {
          "output_type": "stream",
          "name": "stdout",
          "text": [
            "2/2 [==============================] - 1s 364ms/step - loss: 0.5711 - accuracy: 0.7556\n"
          ]
        },
        {
          "output_type": "execute_result",
          "data": {
            "text/plain": [
              "[0.5711084008216858, 0.7555555701255798]"
            ]
          },
          "metadata": {},
          "execution_count": 33
        }
      ]
    },
    {
      "cell_type": "markdown",
      "source": [
        "#--------------------------GHE + Piecewise------------------------------"
      ],
      "metadata": {
        "id": "J1vxanIOcaoE"
      }
    },
    {
      "cell_type": "markdown",
      "source": [
        "###GHE + Piecewise"
      ],
      "metadata": {
        "id": "GDbNq_J0My3A"
      }
    },
    {
      "cell_type": "code",
      "source": [
        "test_Path_GHE_P = '/content/drive/MyDrive/Digital Image Project/Old_Data_Set/GHE + P/test_ghe+p'\n",
        "train_Path_GHE_P = '/content/drive/MyDrive/Digital Image Project/Old_Data_Set/GHE + P/train_ghe+p'"
      ],
      "metadata": {
        "id": "qmtl-tHzZBKq"
      },
      "execution_count": null,
      "outputs": []
    },
    {
      "cell_type": "code",
      "source": [
        "training_set_GHE_P = train_datagen.flow_from_directory(\n",
        "    train_Path_GHE_P,\n",
        "    target_size = IMAGE_SIZE,\n",
        "    batch_size = 32,\n",
        "    class_mode = 'categorical')\n",
        "\n",
        "\n",
        "\n",
        "validation_set_GHE_P = validation_datagen.flow_from_directory(\n",
        "    train_Path_GHE_P,\n",
        "    target_size = IMAGE_SIZE,\n",
        "    batch_size = 32,\n",
        "    class_mode = 'categorical')\n",
        "\n",
        "\n",
        "\n",
        "test_set_GHE_P = test_datagen.flow_from_directory(\n",
        "    test_Path_GHE_P,\n",
        "    target_size = IMAGE_SIZE,\n",
        "    batch_size = 32,\n",
        "    class_mode = 'categorical'\n",
        ")"
      ],
      "metadata": {
        "colab": {
          "base_uri": "https://localhost:8080/"
        },
        "id": "mTqdh5ucKUOl",
        "outputId": "f397afae-cbd2-45d6-c46f-5e9aa9ec9f02"
      },
      "execution_count": null,
      "outputs": [
        {
          "output_type": "stream",
          "name": "stdout",
          "text": [
            "Found 449 images belonging to 3 classes.\n",
            "Found 449 images belonging to 3 classes.\n",
            "Found 45 images belonging to 3 classes.\n"
          ]
        }
      ]
    },
    {
      "cell_type": "markdown",
      "source": [
        "### Model GHE + Piecewise"
      ],
      "metadata": {
        "id": "4M2OsevKM-SR"
      }
    },
    {
      "cell_type": "code",
      "source": [
        "for layer in resnet.layers:\n",
        "    layer.trainable = False\n",
        "import glob\n",
        "folders_GHE_P = glob.glob(train_Path_GHE_P + '/*')\n",
        "folders_GHE_P"
      ],
      "metadata": {
        "colab": {
          "base_uri": "https://localhost:8080/"
        },
        "id": "ti56i6gsPHeY",
        "outputId": "daa7ec92-3b15-48d9-f363-73def20f1259"
      },
      "execution_count": null,
      "outputs": [
        {
          "output_type": "execute_result",
          "data": {
            "text/plain": [
              "['/content/drive/MyDrive/Digital Image Project/Old_Data_Set/GHE + P/train_ghe+p/Fibrous_train_GHE+P',\n",
              " '/content/drive/MyDrive/Digital Image Project/Old_Data_Set/GHE + P/train_ghe+p/Cemento_train_GHE+P',\n",
              " '/content/drive/MyDrive/Digital Image Project/Old_Data_Set/GHE + P/train_ghe+p/Ossifying_train_GHE+P']"
            ]
          },
          "metadata": {},
          "execution_count": 36
        }
      ]
    },
    {
      "cell_type": "code",
      "source": [
        "x = Flatten() (resnet.output)\n",
        "prediction = Dense(len(folders_GHE_P), activation = 'softmax')(x)\n",
        "resnet50_model = Model(inputs = resnet.input, outputs = prediction)\n",
        "resnet50_model.compile (\n",
        "    loss = 'categorical_crossentropy',\n",
        "    optimizer = 'adam',\n",
        "    metrics = ['accuracy']\n",
        ")"
      ],
      "metadata": {
        "id": "e2TfrZ0qPKQT"
      },
      "execution_count": null,
      "outputs": []
    },
    {
      "cell_type": "markdown",
      "source": [
        "###Train model GHE + Piecewise"
      ],
      "metadata": {
        "id": "jyClVH5GNBgb"
      }
    },
    {
      "cell_type": "code",
      "source": [
        "early_stop = callbacks.EarlyStopping(monitor='val_loss', patience=2) \n",
        "mcp_save = ModelCheckpoint('history_resnet50_model_GHE_P_earlystop.h5', save_best_only=True, monitor='val_loss')\n",
        "\n",
        "history_resnet50_model_GHE_P_earlystop = resnet50_model.fit(\n",
        "                      training_set_GHE_P,\n",
        "                      batch_size=32,\n",
        "                      epochs=20,\n",
        "                      validation_data = (validation_set_GHE_P),\n",
        "                      callbacks=[early_stop,mcp_save]\n",
        "                      )"
      ],
      "metadata": {
        "colab": {
          "base_uri": "https://localhost:8080/"
        },
        "id": "kEgMyJ3dPKU7",
        "outputId": "1f840895-6f65-4e11-d6eb-9601efde4194"
      },
      "execution_count": null,
      "outputs": [
        {
          "output_type": "stream",
          "name": "stdout",
          "text": [
            "Epoch 1/20\n",
            "15/15 [==============================] - 247s 16s/step - loss: 2.7418 - accuracy: 0.5323 - val_loss: 2.0552 - val_accuracy: 0.7105\n",
            "Epoch 2/20\n",
            "15/15 [==============================] - 40s 3s/step - loss: 1.8813 - accuracy: 0.6548 - val_loss: 1.0999 - val_accuracy: 0.7416\n",
            "Epoch 3/20\n",
            "15/15 [==============================] - 40s 3s/step - loss: 1.0433 - accuracy: 0.7171 - val_loss: 0.5344 - val_accuracy: 0.8196\n",
            "Epoch 4/20\n",
            "15/15 [==============================] - 41s 3s/step - loss: 0.6534 - accuracy: 0.7728 - val_loss: 0.6771 - val_accuracy: 0.7238\n",
            "Epoch 5/20\n",
            "15/15 [==============================] - 40s 3s/step - loss: 1.2437 - accuracy: 0.7060 - val_loss: 1.2143 - val_accuracy: 0.6192\n"
          ]
        }
      ]
    },
    {
      "cell_type": "markdown",
      "source": [
        "###Evaluation"
      ],
      "metadata": {
        "id": "gZpyyZmsNF7v"
      }
    },
    {
      "cell_type": "code",
      "source": [
        "plt.plot(history_resnet50_model_GHE_P_earlystop.history['loss'], label = 'train_loss')\n",
        "plt.plot(history_resnet50_model_GHE_P_earlystop.history['val_loss'], label ='val loss')\n",
        "plt.legend()\n",
        "plt.show()"
      ],
      "metadata": {
        "colab": {
          "base_uri": "https://localhost:8080/"
        },
        "id": "iHnhaB0pUSWy",
        "outputId": "4edefb2c-f160-4312-d8cc-abe25a126cad"
      },
      "execution_count": null,
      "outputs": [
        {
          "output_type": "display_data",
          "data": {
            "text/plain": [
              "<Figure size 432x288 with 1 Axes>"
            ],
            "image/png": "[encoded data removed]"
          },
          "metadata": {
            "needs_background": "light"
          }
        }
      ]
    },
    {
      "cell_type": "code",
      "source": [
        "plt.plot(history_resnet50_model_GHE_P_earlystop.history['accuracy'], label = 'train_acc')\n",
        "plt.plot(history_resnet50_model_GHE_P_earlystop.history['val_accuracy'], label ='val acc')\n",
        "plt.legend()\n",
        "plt.show()"
      ],
      "metadata": {
        "colab": {
          "base_uri": "https://localhost:8080/"
        },
        "id": "bBGPH9DnUZ9e",
        "outputId": "1506bd6e-c25d-4650-c8c7-c43dfc796ace"
      },
      "execution_count": null,
      "outputs": [
        {
          "output_type": "display_data",
          "data": {
            "text/plain": [
              "<Figure size 432x288 with 1 Axes>"
            ],
            "image/png": "[encoded data removed]"
          },
          "metadata": {
            "needs_background": "light"
          }
        }
      ]
    },
    {
      "cell_type": "code",
      "source": [
        "model_GHE_P_earlystop = load_model('history_resnet50_model_GHE_P_earlystop.h5')\n",
        "score7 = model_GHE_P_earlystop.evaluate(training_set_GHE_P)\n",
        "score7"
      ],
      "metadata": {
        "colab": {
          "base_uri": "https://localhost:8080/"
        },
        "id": "HoSECQihkGpo",
        "outputId": "b57f88ca-4db6-4c82-f763-40f0f154bbc9"
      },
      "execution_count": null,
      "outputs": [
        {
          "output_type": "stream",
          "name": "stdout",
          "text": [
            "15/15 [==============================] - 21s 1s/step - loss: 0.5254 - accuracy: 0.8107\n"
          ]
        },
        {
          "output_type": "execute_result",
          "data": {
            "text/plain": [
              "[0.5254361033439636, 0.8106904029846191]"
            ]
          },
          "metadata": {},
          "execution_count": 41
        }
      ]
    },
    {
      "cell_type": "code",
      "source": [
        "score8 = model_GHE_P_earlystop.evaluate(test_set_GHE_P)\n",
        "score8"
      ],
      "metadata": {
        "colab": {
          "base_uri": "https://localhost:8080/"
        },
        "id": "MpU8oTbeknkM",
        "outputId": "985870ca-fcf6-4693-e177-271d0ddcc82b"
      },
      "execution_count": null,
      "outputs": [
        {
          "output_type": "stream",
          "name": "stdout",
          "text": [
            "2/2 [==============================] - 11s 9s/step - loss: 1.1545 - accuracy: 0.7111\n"
          ]
        },
        {
          "output_type": "execute_result",
          "data": {
            "text/plain": [
              "[1.1545108556747437, 0.7111111283302307]"
            ]
          },
          "metadata": {},
          "execution_count": 42
        }
      ]
    },
    {
      "cell_type": "markdown",
      "source": [
        "#-----------------------------CLAHE + Piecewise--------------------------------"
      ],
      "metadata": {
        "id": "yDQK0z5QcJNz"
      }
    },
    {
      "cell_type": "markdown",
      "source": [
        "###CLAHE + Piecewise"
      ],
      "metadata": {
        "id": "oLgA5JXWNLgs"
      }
    },
    {
      "cell_type": "code",
      "source": [
        "test_Path_CLAHE_P = '/content/drive/MyDrive/Digital Image Project/Old_Data_Set/CLAHE + P/test_CLAHE+P'\n",
        "train_Path_CLAHE_P = '/content/drive/MyDrive/Digital Image Project/Old_Data_Set/CLAHE + P/train_CLAHE+P'"
      ],
      "metadata": {
        "id": "oElqZgijXNb5"
      },
      "execution_count": null,
      "outputs": []
    },
    {
      "cell_type": "code",
      "source": [
        "training_set_CLAHE_P = train_datagen.flow_from_directory(\n",
        "    train_Path_CLAHE_P ,\n",
        "    target_size = IMAGE_SIZE,\n",
        "    batch_size = 32,\n",
        "    class_mode = 'categorical')\n",
        "\n",
        "\n",
        "\n",
        "validation_set_CLAHE_P  = validation_datagen.flow_from_directory(\n",
        "    train_Path_CLAHE_P ,\n",
        "    target_size = IMAGE_SIZE,\n",
        "    batch_size = 32,\n",
        "    class_mode = 'categorical')\n",
        "\n",
        "\n",
        "\n",
        "test_set_CLAHE_P  = test_datagen.flow_from_directory(\n",
        "    test_Path_CLAHE_P ,\n",
        "    target_size = IMAGE_SIZE,\n",
        "    batch_size = 32,\n",
        "    class_mode = 'categorical'\n",
        ")"
      ],
      "metadata": {
        "colab": {
          "base_uri": "https://localhost:8080/"
        },
        "id": "ieB1oLpqKbXx",
        "outputId": "148f92fd-0ea4-4c68-8c5b-f54fc7424da4"
      },
      "execution_count": null,
      "outputs": [
        {
          "output_type": "stream",
          "name": "stdout",
          "text": [
            "Found 460 images belonging to 3 classes.\n",
            "Found 460 images belonging to 3 classes.\n",
            "Found 45 images belonging to 3 classes.\n"
          ]
        }
      ]
    },
    {
      "cell_type": "markdown",
      "source": [
        "###Model CLAHE + Piecewise"
      ],
      "metadata": {
        "id": "OsO25myONSCJ"
      }
    },
    {
      "cell_type": "code",
      "source": [
        "for layer in resnet.layers:\n",
        "    layer.trainable = False\n",
        "import glob\n",
        "folders_CLAHE_P = glob.glob(train_Path_CLAHE_P + '/*')\n",
        "folders_CLAHE_P"
      ],
      "metadata": {
        "colab": {
          "base_uri": "https://localhost:8080/"
        },
        "id": "ku7prfvOPiyB",
        "outputId": "1fe83be1-4310-42b2-8723-d340a31c6ec1"
      },
      "execution_count": null,
      "outputs": [
        {
          "output_type": "execute_result",
          "data": {
            "text/plain": [
              "['/content/drive/MyDrive/Digital Image Project/Old_Data_Set/CLAHE + P/train_CLAHE+P/Fibrous_train_CLAHE+P',\n",
              " '/content/drive/MyDrive/Digital Image Project/Old_Data_Set/CLAHE + P/train_CLAHE+P/Ossifying_train_CLAHE+P',\n",
              " '/content/drive/MyDrive/Digital Image Project/Old_Data_Set/CLAHE + P/train_CLAHE+P/Cemento_train_CLAHE+P']"
            ]
          },
          "metadata": {},
          "execution_count": 45
        }
      ]
    },
    {
      "cell_type": "code",
      "source": [
        "x = Flatten() (resnet.output)\n",
        "prediction = Dense(len(folders_CLAHE_P), activation = 'softmax')(x)\n",
        "resnet50_model = Model(inputs = resnet.input, outputs = prediction)\n",
        "resnet50_model.compile (\n",
        "    loss = 'categorical_crossentropy',\n",
        "    optimizer = 'adam',\n",
        "    metrics = ['accuracy']\n",
        ")"
      ],
      "metadata": {
        "id": "g4FJ9ihCPl1c"
      },
      "execution_count": null,
      "outputs": []
    },
    {
      "cell_type": "markdown",
      "source": [
        "###Train model CLAHE + Piecewise"
      ],
      "metadata": {
        "id": "YLbbe45MNVJo"
      }
    },
    {
      "cell_type": "code",
      "source": [
        "early_stop = callbacks.EarlyStopping(monitor='val_loss', patience=2) \n",
        "mcp_save = ModelCheckpoint('history_resnet50_model_CLAHE_P_earlystop.h5', save_best_only=True, monitor='val_loss')\n",
        "\n",
        "history_resnet50_model_CLAHE_P_earlystop = resnet50_model.fit(\n",
        "                      training_set_CLAHE_P,\n",
        "                      batch_size=32,\n",
        "                      epochs=20,\n",
        "                      validation_data = (validation_set_CLAHE_P),\n",
        "                      callbacks=[early_stop,mcp_save]\n",
        "                      )"
      ],
      "metadata": {
        "colab": {
          "base_uri": "https://localhost:8080/"
        },
        "id": "3fap2CgJPpF8",
        "outputId": "6f155749-bb1d-45d6-fe23-7470e4760797"
      },
      "execution_count": null,
      "outputs": [
        {
          "output_type": "stream",
          "name": "stdout",
          "text": [
            "Epoch 1/20\n",
            "15/15 [==============================] - 50s 3s/step - loss: 0.3425 - accuracy: 0.8739 - val_loss: 0.2461 - val_accuracy: 0.8957\n",
            "Epoch 2/20\n",
            "15/15 [==============================] - 49s 3s/step - loss: 0.1976 - accuracy: 0.9239 - val_loss: 0.2101 - val_accuracy: 0.9196\n",
            "Epoch 3/20\n",
            "15/15 [==============================] - 50s 3s/step - loss: 0.1798 - accuracy: 0.9326 - val_loss: 0.1416 - val_accuracy: 0.9391\n",
            "Epoch 4/20\n",
            "15/15 [==============================] - 49s 3s/step - loss: 0.1740 - accuracy: 0.9391 - val_loss: 0.1508 - val_accuracy: 0.9522\n",
            "Epoch 5/20\n",
            "15/15 [==============================] - 49s 3s/step - loss: 0.1548 - accuracy: 0.9457 - val_loss: 0.1666 - val_accuracy: 0.9435\n"
          ]
        }
      ]
    },
    {
      "cell_type": "markdown",
      "source": [
        "###Evaluation"
      ],
      "metadata": {
        "id": "YC4Gj21ONYVX"
      }
    },
    {
      "cell_type": "code",
      "source": [
        "plt.plot(history_resnet50_model_CLAHE_P_earlystop.history['loss'], label = 'train_loss')\n",
        "plt.plot(history_resnet50_model_CLAHE_P_earlystop.history['val_loss'], label ='val loss')\n",
        "plt.legend()\n",
        "plt.show()"
      ],
      "metadata": {
        "colab": {
          "base_uri": "https://localhost:8080/"
        },
        "id": "VXHpaNqgWHxW",
        "outputId": "fae6bfa2-86e3-483e-dd0c-608d5cf04a4a"
      },
      "execution_count": null,
      "outputs": [
        {
          "output_type": "display_data",
          "data": {
            "text/plain": [
              "<Figure size 432x288 with 1 Axes>"
            ],
            "image/png": "[encoded data removed]"
          },
          "metadata": {
            "needs_background": "light"
          }
        }
      ]
    },
    {
      "cell_type": "code",
      "source": [
        "plt.plot(history_resnet50_model_CLAHE_P_earlystop.history['accuracy'], label = 'train_acc')\n",
        "plt.plot(history_resnet50_model_CLAHE_P_earlystop.history['val_accuracy'], label ='val acc')\n",
        "plt.legend()\n",
        "plt.show()"
      ],
      "metadata": {
        "colab": {
          "base_uri": "https://localhost:8080/"
        },
        "id": "6UilhO1WWPhj",
        "outputId": "14dfee42-a131-440b-c4b0-3b5940866eeb"
      },
      "execution_count": null,
      "outputs": [
        {
          "output_type": "display_data",
          "data": {
            "text/plain": [
              "<Figure size 432x288 with 1 Axes>"
            ],
            "image/png": "[encoded data removed]"
          },
          "metadata": {
            "needs_background": "light"
          }
        }
      ]
    },
    {
      "cell_type": "code",
      "source": [
        "model_CLAHE_P_earlystop = load_model('history_resnet50_model_CLAHE_P_earlystop.h5')\n",
        "score9 = model_CLAHE_P_earlystop.evaluate(training_set_CLAHE_P)\n",
        "score9"
      ],
      "metadata": {
        "colab": {
          "base_uri": "https://localhost:8080/"
        },
        "id": "08MToKsOlKsy",
        "outputId": "f8504ea7-eec4-4ac4-c2e6-57a3b811de9c"
      },
      "execution_count": null,
      "outputs": [
        {
          "output_type": "stream",
          "name": "stdout",
          "text": [
            "15/15 [==============================] - 25s 2s/step - loss: 0.1327 - accuracy: 0.9522\n"
          ]
        },
        {
          "output_type": "execute_result",
          "data": {
            "text/plain": [
              "[0.1326913684606552, 0.9521738886833191]"
            ]
          },
          "metadata": {},
          "execution_count": 59
        }
      ]
    },
    {
      "cell_type": "code",
      "source": [
        "score10 = model_CLAHE_P_earlystop.evaluate(test_set_CLAHE_P)\n",
        "score10"
      ],
      "metadata": {
        "colab": {
          "base_uri": "https://localhost:8080/"
        },
        "id": "HyQ0tpsrlRlK",
        "outputId": "74c8a204-ef96-4ec6-a2ae-d3ffc8ae5e39"
      },
      "execution_count": null,
      "outputs": [
        {
          "output_type": "stream",
          "name": "stdout",
          "text": [
            "2/2 [==============================] - 3s 430ms/step - loss: 0.5116 - accuracy: 0.8222\n"
          ]
        },
        {
          "output_type": "execute_result",
          "data": {
            "text/plain": [
              "[0.5115677714347839, 0.8222222328186035]"
            ]
          },
          "metadata": {},
          "execution_count": 60
        }
      ]
    }
  ]
}